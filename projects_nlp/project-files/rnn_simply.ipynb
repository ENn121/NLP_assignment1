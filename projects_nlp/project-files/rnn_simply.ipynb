{
 "cells": [
  {
   "cell_type": "code",
   "execution_count": null,
   "metadata": {},
   "outputs": [],
   "source": [
    "f = open('/Users/enn/Desktop/nlp/project1/abcnews-data.csv')\n",
    "file = f.readlines()\n",
    "l = []\n",
    "for line in file:\n",
    "    line = line.replace('\\n', '')\n",
    "    if 'climate' in line:\n",
    "        #print(line[9:])\n",
    "        \n",
    "        l.append(line[9:])\n",
    "print(l)"
   ]
  },
  {
   "cell_type": "code",
   "execution_count": 4,
   "metadata": {
    "collapsed": true,
    "jupyter": {
     "outputs_hidden": true
    }
   },
   "outputs": [
    {
     "ename": "TypeError",
     "evalue": "a bytes-like object is required, not 'str'",
     "output_type": "error",
     "traceback": [
      "\u001b[0;31m---------------------------------------------------------------------------\u001b[0m",
      "\u001b[0;31mTypeError\u001b[0m                                 Traceback (most recent call last)",
      "\u001b[0;32m<ipython-input-4-de3e75796a1d>\u001b[0m in \u001b[0;36m<module>\u001b[0;34m\u001b[0m\n\u001b[1;32m      3\u001b[0m \u001b[0mf2\u001b[0m \u001b[0;34m=\u001b[0m \u001b[0mopen\u001b[0m\u001b[0;34m(\u001b[0m\u001b[0;34m'2.txt'\u001b[0m\u001b[0;34m,\u001b[0m \u001b[0;34m'wb'\u001b[0m\u001b[0;34m)\u001b[0m\u001b[0;34m\u001b[0m\u001b[0;34m\u001b[0m\u001b[0m\n\u001b[1;32m      4\u001b[0m \u001b[0;32mfor\u001b[0m \u001b[0mline\u001b[0m \u001b[0;32min\u001b[0m \u001b[0mfile\u001b[0m\u001b[0;34m:\u001b[0m\u001b[0;34m\u001b[0m\u001b[0;34m\u001b[0m\u001b[0m\n\u001b[0;32m----> 5\u001b[0;31m     \u001b[0mf2\u001b[0m\u001b[0;34m.\u001b[0m\u001b[0mwrite\u001b[0m\u001b[0;34m(\u001b[0m\u001b[0mline\u001b[0m\u001b[0;34m)\u001b[0m\u001b[0;34m\u001b[0m\u001b[0;34m\u001b[0m\u001b[0m\n\u001b[0m\u001b[1;32m      6\u001b[0m \u001b[0mf2\u001b[0m\u001b[0;34m.\u001b[0m\u001b[0mclose\u001b[0m\u001b[0;34m(\u001b[0m\u001b[0;34m)\u001b[0m\u001b[0;34m\u001b[0m\u001b[0;34m\u001b[0m\u001b[0m\n",
      "\u001b[0;31mTypeError\u001b[0m: a bytes-like object is required, not 'str'"
     ]
    }
   ],
   "source": [
    "f = open('/Users/enn/Desktop/nlp/project1/abcnews-data.csv')\n",
    "file = f.readlines()\n",
    "f2 = open('2.txt', 'wb')\n",
    "for line in file:\n",
    "    f2.write(line)\n",
    "f2.close()"
   ]
  },
  {
   "cell_type": "code",
   "execution_count": 26,
   "metadata": {},
   "outputs": [],
   "source": [
    "import requests\n",
    "import bs4\n",
    "import os\n",
    "import datetime\n",
    "import time"
   ]
  },
  {
   "cell_type": "code",
   "execution_count": 27,
   "metadata": {},
   "outputs": [],
   "source": [
    "import json\n",
    "f = open('/Users/enn/Desktop/nlp/project1/neg.txt')\n",
    "data = f.readlines()\n",
    "l = []\n",
    "for item in data:\n",
    "    item = item.replace('\\n', '')\n",
    "    item = item.replace('  ', '')\n",
    "    l.append(item)\n",
    "#print(l)"
   ]
  },
  {
   "cell_type": "code",
   "execution_count": 28,
   "metadata": {},
   "outputs": [
    {
     "name": "stdout",
     "output_type": "stream",
     "text": [
      "1386\n"
     ]
    }
   ],
   "source": [
    "f1 = open('/Users/enn/Desktop/nlp/project1/neg_data/climate.txt')\n",
    "f2 = open('/Users/enn/Desktop/nlp/project1/neg_data/non-climate.txt')\n",
    "f3 = open('/Users/enn/Desktop/nlp/project1/neg_data/skeptical/total_neg.txt')\n",
    "file1 = f1.readlines()\n",
    "file2 = f2.readlines()\n",
    "file3 = f3.readlines()\n",
    "neg_data = file1 + file2 + file3\n",
    "#print(neg_data)\n",
    "for item in neg_data:\n",
    "    item = item.replace('\\n', '')\n",
    "    #print(item)\n",
    "print(len(neg_data))"
   ]
  },
  {
   "cell_type": "code",
   "execution_count": 29,
   "metadata": {},
   "outputs": [
    {
     "name": "stdout",
     "output_type": "stream",
     "text": [
      "1380\n"
     ]
    }
   ],
   "source": [
    "import json\n",
    "f1 = open('/Users/enn/Desktop/nlp/project1/project-files/train.json')\n",
    "f2 = open('/Users/enn/Desktop/nlp/project1/neg_data/skeptical/total_pos.txt')\n",
    "file1 = json.load(f1)\n",
    "file2 = f2.readlines()\n",
    "#print(len(pos_data))\n",
    "#print(pos_data)\n",
    "pos = []\n",
    "for value in file1.values():\n",
    "    #print(value['text'])\n",
    "    pos.append(value['text'])\n",
    "    #for key in value.items():\n",
    "        #if key == 'text':\n",
    "            #print(value[key])\n",
    "    #break\n",
    "pos_data = pos + file2\n",
    "for item in pos_data:\n",
    "    item = item.replace('\\n', '')\n",
    "print(len(pos_data))"
   ]
  },
  {
   "cell_type": "code",
   "execution_count": 30,
   "metadata": {},
   "outputs": [
    {
     "name": "stdout",
     "output_type": "stream",
     "text": [
      "2766\n"
     ]
    }
   ],
   "source": [
    "train = neg_data + pos_data\n",
    "print(len(train))"
   ]
  },
  {
   "cell_type": "code",
   "execution_count": 31,
   "metadata": {},
   "outputs": [
    {
     "name": "stdout",
     "output_type": "stream",
     "text": [
      "100\n",
      "100\n",
      "100\n"
     ]
    }
   ],
   "source": [
    "f = open('/Users/enn/Desktop/nlp/project1/project-files/dev.json')\n",
    "dev_data = json.load(f)\n",
    "print(len(dev_data))\n",
    "dev = []\n",
    "y_dev = []\n",
    "for value in dev_data.values():\n",
    "    dev.append(value['text'])\n",
    "    y_dev.append(value['label'])\n",
    "for item in dev:\n",
    "    item = item.replace('\\n', '')\n",
    "print(len(dev))\n",
    "print(len(y_dev))"
   ]
  },
  {
   "cell_type": "code",
   "execution_count": 32,
   "metadata": {},
   "outputs": [
    {
     "name": "stdout",
     "output_type": "stream",
     "text": [
      "1410\n",
      "1410\n"
     ]
    }
   ],
   "source": [
    "f = open('/Users/enn/Desktop/nlp/project1/project-files/test-unlabelled.json')\n",
    "test_data = json.load(f)\n",
    "print(len(test_data))\n",
    "#print(pos_data)\n",
    "test = []\n",
    "for value in test_data.values():\n",
    "    #print(value['text'])\n",
    "    test.append(value['text'])\n",
    "    #for key in value.items():\n",
    "        #if key == 'text':\n",
    "            #print(value[key])\n",
    "    #break\n",
    "for item in test:\n",
    "    item = item.replace('\\n', '')\n",
    "print(len(test))"
   ]
  },
  {
   "cell_type": "code",
   "execution_count": 68,
   "metadata": {},
   "outputs": [
    {
     "name": "stdout",
     "output_type": "stream",
     "text": [
      "2766\n"
     ]
    }
   ],
   "source": [
    "def getNClasses(n, label):\n",
    "    return [label for i in range(n)]\n",
    "\n",
    "y_train = getNClasses(1386, \"0\") + getNClasses(1380, \"1\")\n",
    "print(len(y_train))\n",
    "\n",
    "import random\n",
    "random.seed(20)\n",
    "random.shuffle(train)\n",
    "random.seed(20)\n",
    "random.shuffle(y_train)"
   ]
  },
  {
   "cell_type": "code",
   "execution_count": 69,
   "metadata": {},
   "outputs": [
    {
     "name": "stdout",
     "output_type": "stream",
     "text": [
      "[[   0    0    0 ...  769 8004   27]\n",
      " [   0    0    0 ...   47 1275 1299]\n",
      " [   0    0    0 ...   39   51 1740]\n",
      " ...\n",
      " [   0    0    0 ...   66 9967   26]\n",
      " [   0    0    0 ...    3  142 2341]\n",
      " [   0    0    0 ...  425   49 3745]]\n"
     ]
    }
   ],
   "source": [
    "from keras.preprocessing import sequence\n",
    "from keras.preprocessing.text import Tokenizer\n",
    "token = Tokenizer(num_words = 10000)\n",
    "token.fit_on_texts(train)\n",
    "#print(train)\n",
    "train_seq = token.texts_to_sequences(train)\n",
    "#for item in train_seq:\n",
    "#print(train_seq)\n",
    "dev_seq  = token.texts_to_sequences(dev)\n",
    "#print(dev_seq)\n",
    "x_train = sequence.pad_sequences(train_seq, maxlen = 3800)\n",
    "x_dev = sequence.pad_sequences(dev_seq, maxlen = 3800)\n",
    "print(x_train)"
   ]
  },
  {
   "cell_type": "code",
   "execution_count": 70,
   "metadata": {},
   "outputs": [
    {
     "name": "stdout",
     "output_type": "stream",
     "text": [
      "Model: \"sequential_15\"\n",
      "_________________________________________________________________\n",
      "Layer (type)                 Output Shape              Param #   \n",
      "=================================================================\n",
      "embedding_15 (Embedding)     (None, 5000, 32)          160000    \n",
      "_________________________________________________________________\n",
      "dropout_23 (Dropout)         (None, 5000, 32)          0         \n",
      "_________________________________________________________________\n",
      "simple_rnn_12 (SimpleRNN)    (None, 16)                784       \n",
      "_________________________________________________________________\n",
      "dense_25 (Dense)             (None, 256)               4352      \n",
      "_________________________________________________________________\n",
      "dropout_24 (Dropout)         (None, 256)               0         \n",
      "_________________________________________________________________\n",
      "dense_26 (Dense)             (None, 1)                 257       \n",
      "=================================================================\n",
      "Total params: 165,393\n",
      "Trainable params: 165,393\n",
      "Non-trainable params: 0\n",
      "_________________________________________________________________\n"
     ]
    },
    {
     "ename": "ValueError",
     "evalue": "Error when checking input: expected embedding_15_input to have shape (5000,) but got array with shape (3800,)",
     "output_type": "error",
     "traceback": [
      "\u001b[0;31m---------------------------------------------------------------------------\u001b[0m",
      "\u001b[0;31mValueError\u001b[0m                                Traceback (most recent call last)",
      "\u001b[0;32m<ipython-input-70-bba8780201d9>\u001b[0m in \u001b[0;36m<module>\u001b[0;34m\u001b[0m\n\u001b[1;32m     29\u001b[0m train_history = model.fit(np.array(x_train), np.array(y_train), batch_size = 512,\n\u001b[1;32m     30\u001b[0m                           \u001b[0mepochs\u001b[0m \u001b[0;34m=\u001b[0m \u001b[0;36m10\u001b[0m\u001b[0;34m,\u001b[0m \u001b[0mverbose\u001b[0m \u001b[0;34m=\u001b[0m \u001b[0;36m2\u001b[0m\u001b[0;34m,\u001b[0m\u001b[0;34m\u001b[0m\u001b[0;34m\u001b[0m\u001b[0m\n\u001b[0;32m---> 31\u001b[0;31m                           validation_split = 0.2)\n\u001b[0m\u001b[1;32m     32\u001b[0m \u001b[0;34m\u001b[0m\u001b[0m\n\u001b[1;32m     33\u001b[0m \u001b[0;31m#results = model.evaluate(x_dev, y_dev)\u001b[0m\u001b[0;34m\u001b[0m\u001b[0;34m\u001b[0m\u001b[0;34m\u001b[0m\u001b[0m\n",
      "\u001b[0;32m/opt/anaconda3/lib/python3.7/site-packages/keras/engine/training.py\u001b[0m in \u001b[0;36mfit\u001b[0;34m(self, x, y, batch_size, epochs, verbose, callbacks, validation_split, validation_data, shuffle, class_weight, sample_weight, initial_epoch, steps_per_epoch, validation_steps, validation_freq, max_queue_size, workers, use_multiprocessing, **kwargs)\u001b[0m\n\u001b[1;32m   1152\u001b[0m             \u001b[0msample_weight\u001b[0m\u001b[0;34m=\u001b[0m\u001b[0msample_weight\u001b[0m\u001b[0;34m,\u001b[0m\u001b[0;34m\u001b[0m\u001b[0;34m\u001b[0m\u001b[0m\n\u001b[1;32m   1153\u001b[0m             \u001b[0mclass_weight\u001b[0m\u001b[0;34m=\u001b[0m\u001b[0mclass_weight\u001b[0m\u001b[0;34m,\u001b[0m\u001b[0;34m\u001b[0m\u001b[0;34m\u001b[0m\u001b[0m\n\u001b[0;32m-> 1154\u001b[0;31m             batch_size=batch_size)\n\u001b[0m\u001b[1;32m   1155\u001b[0m \u001b[0;34m\u001b[0m\u001b[0m\n\u001b[1;32m   1156\u001b[0m         \u001b[0;31m# Prepare validation data.\u001b[0m\u001b[0;34m\u001b[0m\u001b[0;34m\u001b[0m\u001b[0;34m\u001b[0m\u001b[0m\n",
      "\u001b[0;32m/opt/anaconda3/lib/python3.7/site-packages/keras/engine/training.py\u001b[0m in \u001b[0;36m_standardize_user_data\u001b[0;34m(self, x, y, sample_weight, class_weight, check_array_lengths, batch_size)\u001b[0m\n\u001b[1;32m    577\u001b[0m             \u001b[0mfeed_input_shapes\u001b[0m\u001b[0;34m,\u001b[0m\u001b[0;34m\u001b[0m\u001b[0;34m\u001b[0m\u001b[0m\n\u001b[1;32m    578\u001b[0m             \u001b[0mcheck_batch_axis\u001b[0m\u001b[0;34m=\u001b[0m\u001b[0;32mFalse\u001b[0m\u001b[0;34m,\u001b[0m  \u001b[0;31m# Don't enforce the batch size.\u001b[0m\u001b[0;34m\u001b[0m\u001b[0;34m\u001b[0m\u001b[0m\n\u001b[0;32m--> 579\u001b[0;31m             exception_prefix='input')\n\u001b[0m\u001b[1;32m    580\u001b[0m \u001b[0;34m\u001b[0m\u001b[0m\n\u001b[1;32m    581\u001b[0m         \u001b[0;32mif\u001b[0m \u001b[0my\u001b[0m \u001b[0;32mis\u001b[0m \u001b[0;32mnot\u001b[0m \u001b[0;32mNone\u001b[0m\u001b[0;34m:\u001b[0m\u001b[0;34m\u001b[0m\u001b[0;34m\u001b[0m\u001b[0m\n",
      "\u001b[0;32m/opt/anaconda3/lib/python3.7/site-packages/keras/engine/training_utils.py\u001b[0m in \u001b[0;36mstandardize_input_data\u001b[0;34m(data, names, shapes, check_batch_axis, exception_prefix)\u001b[0m\n\u001b[1;32m    143\u001b[0m                             \u001b[0;34m': expected '\u001b[0m \u001b[0;34m+\u001b[0m \u001b[0mnames\u001b[0m\u001b[0;34m[\u001b[0m\u001b[0mi\u001b[0m\u001b[0;34m]\u001b[0m \u001b[0;34m+\u001b[0m \u001b[0;34m' to have shape '\u001b[0m \u001b[0;34m+\u001b[0m\u001b[0;34m\u001b[0m\u001b[0;34m\u001b[0m\u001b[0m\n\u001b[1;32m    144\u001b[0m                             \u001b[0mstr\u001b[0m\u001b[0;34m(\u001b[0m\u001b[0mshape\u001b[0m\u001b[0;34m)\u001b[0m \u001b[0;34m+\u001b[0m \u001b[0;34m' but got array with shape '\u001b[0m \u001b[0;34m+\u001b[0m\u001b[0;34m\u001b[0m\u001b[0;34m\u001b[0m\u001b[0m\n\u001b[0;32m--> 145\u001b[0;31m                             str(data_shape))\n\u001b[0m\u001b[1;32m    146\u001b[0m     \u001b[0;32mreturn\u001b[0m \u001b[0mdata\u001b[0m\u001b[0;34m\u001b[0m\u001b[0;34m\u001b[0m\u001b[0m\n\u001b[1;32m    147\u001b[0m \u001b[0;34m\u001b[0m\u001b[0m\n",
      "\u001b[0;31mValueError\u001b[0m: Error when checking input: expected embedding_15_input to have shape (5000,) but got array with shape (3800,)"
     ]
    }
   ],
   "source": [
    "from keras.models import Sequential\n",
    "from keras.layers.core import Dense, Dropout, Activation\n",
    "from keras.layers.embeddings import Embedding\n",
    "from keras.layers.recurrent import SimpleRNN\n",
    "import numpy as np\n",
    "\n",
    "model = Sequential()\n",
    "\n",
    "model.add(Embedding(vocab_size, 256, input_length=sentence_max_len))\n",
    "\n",
    "model.add(Dropout(0.35))\n",
    "\n",
    "model.add(SimpleRNN(units = 16))\n",
    "\n",
    "model.add(Dense(units = 256, activation = 'relu'))\n",
    "\n",
    "model.add(Dropout(0.35))\n",
    "\n",
    "model.add(Dense(units = 1, activation = 'sigmoid'))\n",
    "\n",
    "model.summary()\n",
    "\n",
    "###train the model\n",
    "model.compile(loss = 'binary_crossentropy',\n",
    "              optimizer = 'adam',\n",
    "              metrics = ['accuracy'])\n",
    "\n",
    "train_history = model.fit(np.array(x_train), np.array(y_train), batch_size = 512,\n",
    "                          epochs = 10, verbose = 2,\n",
    "                          validation_split = 0.2)\n",
    "\n",
    "#results = model.evaluate(x_dev, y_dev)\n",
    "#print(results)"
   ]
  },
  {
   "cell_type": "code",
   "execution_count": 59,
   "metadata": {},
   "outputs": [
    {
     "name": "stdout",
     "output_type": "stream",
     "text": [
      "0.7272727272727273\n"
     ]
    },
    {
     "data": {
      "text/plain": [
       "array([1, 1, 1, 0, 1, 1, 1, 1, 1, 1, 1, 1, 1, 1, 1, 1, 0, 1, 1, 0, 0, 1,\n",
       "       0, 1, 0, 0, 1, 1, 1, 0, 1, 1, 1, 1, 0, 1, 1, 1, 1, 1, 1, 0, 0, 1,\n",
       "       1, 0, 0, 0, 0, 1, 0, 0, 1, 0, 0, 1, 1, 1, 1, 0, 1, 1, 1, 1, 1, 1,\n",
       "       1, 1, 1, 1, 1, 1, 0, 1, 1, 1, 0, 1, 0, 0, 1, 1, 1, 0, 1, 1, 1, 0,\n",
       "       1, 1, 0, 1, 1, 0, 1, 0, 1, 1, 1, 1], dtype=int32)"
      ]
     },
     "execution_count": 59,
     "metadata": {},
     "output_type": "execute_result"
    }
   ],
   "source": [
    "from sklearn.metrics import f1_score\n",
    "\n",
    "predict = model.predict_classes(x_dev)\n",
    "#results = model.evaluate(x_dev, y_dev)\n",
    "#print(predict)\n",
    "#print(results)\n",
    "print(f1_score(y_dev, predict))\n",
    "\n",
    "predict[:10]\n",
    "predict.shape\n",
    "predict_classes = predict.reshape(100)\n",
    "predict_classes"
   ]
  },
  {
   "cell_type": "code",
   "execution_count": 57,
   "metadata": {},
   "outputs": [
    {
     "name": "stdout",
     "output_type": "stream",
     "text": [
      "[[1]\n",
      " [0]\n",
      " [1]\n",
      " ...\n",
      " [1]\n",
      " [1]\n",
      " [1]]\n"
     ]
    }
   ],
   "source": [
    "#SentimentDict={1:'mis',0:'nonmis'}\n",
    "#l = []\n",
    "#from sklearn.metrics import classification_report\n",
    "\n",
    "x_test_seq = token.texts_to_sequences(test)\n",
    "x_test = sequence.pad_sequences(x_test_seq, maxlen = 3800)\n",
    "predict_result = model.predict_classes(x_test)\n",
    "\n",
    "print(predict_result)\n",
    "#print(l)\n",
    "#predict[:10]\n",
    "#predict.shape\n",
    "#predict_classes = predict.reshape(100)\n",
    "#predict_classes"
   ]
  },
  {
   "cell_type": "code",
   "execution_count": 56,
   "metadata": {},
   "outputs": [
    {
     "name": "stdout",
     "output_type": "stream",
     "text": [
      "1410\n"
     ]
    }
   ],
   "source": [
    "list = predict_result.tolist()\n",
    "print(len(list))"
   ]
  },
  {
   "cell_type": "code",
   "execution_count": 41,
   "metadata": {},
   "outputs": [
    {
     "name": "stdout",
     "output_type": "stream",
     "text": [
      "[0, 0, 0, 0, 1, 0, 0, 0, 0, 1, 0, 0, 0, 0, 0, 1, 0, 0, 0, 0, 0, 0, 0, 1, 0, 0, 0, 1, 0, 1, 0, 0, 0, 0, 0, 0, 0, 1, 0, 0, 0, 0, 0, 0, 0, 0, 0, 0, 1, 0, 0, 0, 0, 0, 0, 1, 0, 0, 0, 0, 0, 1, 0, 1, 1, 0, 0, 0, 0, 0, 0, 0, 0, 0, 0, 0, 0, 0, 0, 0, 1, 0, 0, 1, 0, 1, 0, 0, 0, 0, 0, 0, 0, 0, 0, 0, 1, 0, 0, 1, 1, 1, 1, 0, 0, 0, 0, 0, 0, 0, 0, 0, 0, 0, 1, 0, 0, 0, 0, 0, 0, 0, 0, 0, 0, 0, 0, 0, 0, 1, 0, 0, 0, 0, 1, 0, 0, 0, 1, 0, 0, 0, 0, 0, 0, 0, 0, 0, 0, 1, 1, 0, 0, 1, 1, 1, 1, 0, 0, 0, 1, 0, 0, 1, 1, 0, 0, 0, 0, 0, 0, 0, 0, 0, 1, 0, 0, 0, 0, 0, 1, 0, 1, 0, 0, 0, 1, 0, 0, 0, 0, 0, 0, 0, 0, 0, 0, 0, 0, 0, 0, 0, 0, 0, 0, 0, 0, 0, 0, 0, 1, 0, 1, 1, 0, 0, 0, 0, 0, 0, 0, 0, 0, 1, 0, 0, 0, 0, 0, 1, 1, 0, 0, 1, 1, 0, 0, 0, 0, 0, 0, 0, 0, 1, 1, 0, 0, 0, 0, 0, 1, 0, 0, 0, 0, 0, 1, 0, 0, 0, 1, 0, 0, 0, 1, 0, 0, 0, 0, 0, 1, 0, 0, 0, 0, 0, 0, 0, 0, 0, 0, 0, 0, 0, 0, 0, 0, 0, 0, 0, 0, 0, 0, 0, 0, 1, 0, 0, 0, 0, 1, 1, 0, 1, 0, 0, 1, 0, 0, 0, 0, 0, 0, 0, 0, 0, 0, 0, 0, 1, 0, 1, 0, 0, 0, 0, 0, 0, 0, 0, 0, 0, 1, 0, 0, 0, 0, 0, 0, 0, 0, 0, 1, 1, 0, 0, 0, 0, 1, 0, 0, 1, 0, 0, 0, 0, 0, 0, 0, 0, 0, 0, 0, 1, 1, 0, 1, 0, 0, 0, 1, 0, 1, 0, 0, 0, 1, 0, 0, 0, 1, 0, 0, 0, 0, 0, 0, 0, 0, 0, 0, 0, 0, 1, 0, 0, 0, 0, 0, 0, 1, 1, 0, 1, 0, 1, 0, 0, 0, 0, 0, 0, 1, 1, 1, 0, 0, 0, 1, 0, 0, 0, 0, 0, 0, 0, 0, 0, 0, 0, 0, 0, 0, 1, 1, 0, 0, 0, 0, 0, 0, 0, 0, 0, 1, 0, 1, 0, 0, 0, 0, 0, 0, 1, 0, 0, 1, 0, 1, 0, 0, 0, 0, 1, 0, 0, 0, 0, 0, 0, 0, 0, 0, 0, 0, 0, 0, 0, 0, 1, 1, 0, 0, 1, 1, 0, 0, 0, 0, 0, 0, 0, 1, 0, 0, 0, 0, 0, 1, 1, 0, 0, 1, 0, 0, 0, 1, 1, 0, 1, 0, 0, 0, 0, 0, 1, 0, 0, 0, 0, 1, 0, 0, 0, 1, 0, 1, 0, 0, 0, 0, 0, 0, 0, 0, 1, 0, 0, 0, 0, 0, 0, 0, 1, 0, 1, 0, 0, 0, 0, 0, 0, 1, 0, 0, 0, 1, 1, 0, 0, 1, 0, 0, 1, 1, 0, 1, 0, 0, 1, 1, 0, 0, 1, 0, 0, 0, 0, 0, 0, 0, 0, 1, 0, 0, 0, 0, 0, 0, 0, 0, 0, 0, 0, 0, 0, 0, 1, 0, 0, 0, 0, 0, 0, 0, 0, 0, 0, 0, 0, 0, 1, 1, 0, 0, 1, 0, 1, 0, 1, 0, 0, 0, 1, 0, 0, 0, 0, 0, 0, 0, 0, 1, 0, 0, 1, 0, 1, 0, 1, 0, 0, 0, 0, 0, 0, 0, 0, 0, 0, 0, 0, 0, 0, 0, 0, 0, 0, 1, 0, 0, 0, 0, 0, 0, 0, 0, 1, 0, 0, 0, 0, 0, 0, 0, 0, 0, 0, 1, 1, 0, 1, 0, 0, 0, 0, 0, 0, 0, 0, 1, 0, 0, 0, 0, 0, 0, 0, 0, 0, 0, 0, 1, 0, 0, 0, 0, 0, 0, 0, 0, 0, 0, 0, 0, 0, 0, 0, 0, 1, 0, 1, 0, 0, 0, 0, 0, 0, 0, 0, 0, 1, 0, 0, 0, 0, 0, 1, 1, 0, 0, 0, 1, 0, 0, 0, 0, 0, 1, 0, 0, 0, 0, 0, 0, 0, 0, 0, 0, 0, 0, 0, 0, 0, 0, 0, 0, 0, 0, 0, 0, 0, 0, 0, 0, 1, 1, 1, 0, 1, 0, 0, 0, 0, 0, 0, 0, 1, 0, 1, 0, 0, 0, 0, 0, 0, 1, 0, 0, 0, 1, 0, 0, 0, 0, 0, 1, 1, 1, 0, 0, 1, 0, 0, 0, 0, 1, 0, 1, 0, 1, 0, 0, 0, 0, 0, 1, 1, 0, 1, 0, 0, 0, 1, 0, 0, 1, 0, 0, 1, 0, 0, 0, 0, 0, 0, 0, 0, 0, 0, 0, 1, 1, 0, 0, 0, 0, 0, 1, 0, 1, 0, 1, 1, 0, 0, 0, 0, 0, 1, 0, 0, 0, 0, 1, 0, 0, 0, 0, 1, 0, 0, 0, 0, 0, 1, 0, 0, 0, 0, 0, 0, 0, 0, 0, 0, 0, 0, 1, 1, 0, 0, 1, 1, 1, 0, 0, 0, 0, 0, 1, 0, 0, 0, 0, 1, 0, 0, 0, 0, 0, 0, 1, 0, 1, 0, 1, 0, 1, 0, 0, 0, 1, 1, 1, 0, 0, 1, 0, 0, 0, 0, 0, 0, 0, 0, 0, 1, 0, 0, 0, 1, 0, 0, 0, 0, 0, 0, 0, 1, 0, 0, 1, 1, 0, 0, 0, 0, 0, 1, 0, 0, 0, 0, 0, 0, 1, 0, 1, 1, 0, 1, 1, 0, 0, 0, 1, 0, 0, 0, 0, 0, 0, 1, 0, 0, 0, 0, 1, 0, 0, 0, 0, 0, 0, 0, 0, 0, 1, 0, 0, 0, 1, 1, 0, 0, 0, 0, 1, 0, 0, 0, 1, 1, 1, 0, 0, 0, 0, 0, 1, 0, 0, 0, 0, 0, 0, 0, 1, 0, 1, 0, 0, 0, 0, 0, 1, 0, 0, 0, 0, 0, 0, 0, 0, 0, 1, 1, 0, 0, 0, 0, 0, 0, 0, 0, 0, 0, 1, 0, 0, 0, 0, 0, 1, 0, 0, 1, 1, 1, 1, 0, 0, 1, 0, 0, 0, 0, 0, 0, 0, 1, 0, 0, 0, 0, 0, 0, 0, 0, 0, 0, 0, 0, 1, 0, 0, 0, 0, 1, 0, 1, 0, 0, 0, 0, 1, 0, 0, 0, 0, 0, 0, 0, 1, 0, 1, 0, 0, 0, 1, 0, 0, 0, 1, 0, 0, 1, 1, 1, 0, 1, 0, 0, 0, 0, 0, 0, 0, 0, 1, 0, 0, 0, 0, 0, 0, 0, 0, 0, 0, 0, 0, 1, 1, 0, 1, 0, 0, 0, 0, 0, 0, 0, 0, 1, 0, 0, 1, 0, 0, 1, 0, 0, 0, 1, 0, 0, 0, 0, 0, 0, 0, 0, 0, 0, 0, 0, 0, 0, 0, 0, 0, 1, 0, 1, 0, 1, 0, 0, 0, 1, 0, 0, 0, 0, 0, 0, 1, 0, 0, 0, 0, 0, 0, 1, 0, 0, 0, 0, 0, 0, 0, 1, 0, 0, 0, 0, 0, 0, 0, 1, 0, 1, 0, 0, 0, 0, 0, 0, 0, 0, 0, 0, 0, 0, 0, 0, 0, 0, 0, 0, 0, 0, 0, 1, 0, 0, 0, 0, 0, 1, 0, 0, 0, 0, 0, 0, 0, 0, 1, 1, 0, 0, 0, 0, 0, 0, 0, 0, 0, 0, 0, 0, 1, 0, 0, 0, 1, 0, 0, 0, 0, 0, 0, 0, 1, 1, 0, 0, 1, 1, 1, 0, 0, 0, 0, 1, 0, 1, 1, 0, 0, 0, 0, 0, 0, 0, 1, 0, 0, 0, 1, 0, 0, 1, 0, 0, 0, 0, 1, 0, 0, 1, 0, 0, 0, 0, 0, 0, 1, 0, 1, 1, 1, 1, 1, 0, 1, 0, 0, 0, 0, 1, 1, 0, 0, 0, 0, 0, 0, 0, 0, 0, 0, 0, 0, 0, 0, 0, 0, 0, 0, 0, 0, 0, 0, 0, 0, 1, 1, 1, 0, 0, 0, 0, 1, 0, 0, 0, 0, 0, 0, 0, 0, 0, 0, 0, 1, 1]\n"
     ]
    }
   ],
   "source": [
    "label = []\n",
    "for item in list:\n",
    "    for i in item:\n",
    "        label.append(i)\n",
    "print(label)\n"
   ]
  },
  {
   "cell_type": "code",
   "execution_count": 42,
   "metadata": {},
   "outputs": [
    {
     "name": "stdout",
     "output_type": "stream",
     "text": [
      "['test-0', 'test-1', 'test-2', 'test-3', 'test-4', 'test-5', 'test-6', 'test-7', 'test-8', 'test-9', 'test-10', 'test-11', 'test-12', 'test-13', 'test-14', 'test-15', 'test-16', 'test-17', 'test-18', 'test-19', 'test-20', 'test-21', 'test-22', 'test-23', 'test-24', 'test-25', 'test-26', 'test-27', 'test-28', 'test-29', 'test-30', 'test-31', 'test-32', 'test-33', 'test-34', 'test-35', 'test-36', 'test-37', 'test-38', 'test-39', 'test-40', 'test-41', 'test-42', 'test-43', 'test-44', 'test-45', 'test-46', 'test-47', 'test-48', 'test-49', 'test-50', 'test-51', 'test-52', 'test-53', 'test-54', 'test-55', 'test-56', 'test-57', 'test-58', 'test-59', 'test-60', 'test-61', 'test-62', 'test-63', 'test-64', 'test-65', 'test-66', 'test-67', 'test-68', 'test-69', 'test-70', 'test-71', 'test-72', 'test-73', 'test-74', 'test-75', 'test-76', 'test-77', 'test-78', 'test-79', 'test-80', 'test-81', 'test-82', 'test-83', 'test-84', 'test-85', 'test-86', 'test-87', 'test-88', 'test-89', 'test-90', 'test-91', 'test-92', 'test-93', 'test-94', 'test-95', 'test-96', 'test-97', 'test-98', 'test-99', 'test-100', 'test-101', 'test-102', 'test-103', 'test-104', 'test-105', 'test-106', 'test-107', 'test-108', 'test-109', 'test-110', 'test-111', 'test-112', 'test-113', 'test-114', 'test-115', 'test-116', 'test-117', 'test-118', 'test-119', 'test-120', 'test-121', 'test-122', 'test-123', 'test-124', 'test-125', 'test-126', 'test-127', 'test-128', 'test-129', 'test-130', 'test-131', 'test-132', 'test-133', 'test-134', 'test-135', 'test-136', 'test-137', 'test-138', 'test-139', 'test-140', 'test-141', 'test-142', 'test-143', 'test-144', 'test-145', 'test-146', 'test-147', 'test-148', 'test-149', 'test-150', 'test-151', 'test-152', 'test-153', 'test-154', 'test-155', 'test-156', 'test-157', 'test-158', 'test-159', 'test-160', 'test-161', 'test-162', 'test-163', 'test-164', 'test-165', 'test-166', 'test-167', 'test-168', 'test-169', 'test-170', 'test-171', 'test-172', 'test-173', 'test-174', 'test-175', 'test-176', 'test-177', 'test-178', 'test-179', 'test-180', 'test-181', 'test-182', 'test-183', 'test-184', 'test-185', 'test-186', 'test-187', 'test-188', 'test-189', 'test-190', 'test-191', 'test-192', 'test-193', 'test-194', 'test-195', 'test-196', 'test-197', 'test-198', 'test-199', 'test-200', 'test-201', 'test-202', 'test-203', 'test-204', 'test-205', 'test-206', 'test-207', 'test-208', 'test-209', 'test-210', 'test-211', 'test-212', 'test-213', 'test-214', 'test-215', 'test-216', 'test-217', 'test-218', 'test-219', 'test-220', 'test-221', 'test-222', 'test-223', 'test-224', 'test-225', 'test-226', 'test-227', 'test-228', 'test-229', 'test-230', 'test-231', 'test-232', 'test-233', 'test-234', 'test-235', 'test-236', 'test-237', 'test-238', 'test-239', 'test-240', 'test-241', 'test-242', 'test-243', 'test-244', 'test-245', 'test-246', 'test-247', 'test-248', 'test-249', 'test-250', 'test-251', 'test-252', 'test-253', 'test-254', 'test-255', 'test-256', 'test-257', 'test-258', 'test-259', 'test-260', 'test-261', 'test-262', 'test-263', 'test-264', 'test-265', 'test-266', 'test-267', 'test-268', 'test-269', 'test-270', 'test-271', 'test-272', 'test-273', 'test-274', 'test-275', 'test-276', 'test-277', 'test-278', 'test-279', 'test-280', 'test-281', 'test-282', 'test-283', 'test-284', 'test-285', 'test-286', 'test-287', 'test-288', 'test-289', 'test-290', 'test-291', 'test-292', 'test-293', 'test-294', 'test-295', 'test-296', 'test-297', 'test-298', 'test-299', 'test-300', 'test-301', 'test-302', 'test-303', 'test-304', 'test-305', 'test-306', 'test-307', 'test-308', 'test-309', 'test-310', 'test-311', 'test-312', 'test-313', 'test-314', 'test-315', 'test-316', 'test-317', 'test-318', 'test-319', 'test-320', 'test-321', 'test-322', 'test-323', 'test-324', 'test-325', 'test-326', 'test-327', 'test-328', 'test-329', 'test-330', 'test-331', 'test-332', 'test-333', 'test-334', 'test-335', 'test-336', 'test-337', 'test-338', 'test-339', 'test-340', 'test-341', 'test-342', 'test-343', 'test-344', 'test-345', 'test-346', 'test-347', 'test-348', 'test-349', 'test-350', 'test-351', 'test-352', 'test-353', 'test-354', 'test-355', 'test-356', 'test-357', 'test-358', 'test-359', 'test-360', 'test-361', 'test-362', 'test-363', 'test-364', 'test-365', 'test-366', 'test-367', 'test-368', 'test-369', 'test-370', 'test-371', 'test-372', 'test-373', 'test-374', 'test-375', 'test-376', 'test-377', 'test-378', 'test-379', 'test-380', 'test-381', 'test-382', 'test-383', 'test-384', 'test-385', 'test-386', 'test-387', 'test-388', 'test-389', 'test-390', 'test-391', 'test-392', 'test-393', 'test-394', 'test-395', 'test-396', 'test-397', 'test-398', 'test-399', 'test-400', 'test-401', 'test-402', 'test-403', 'test-404', 'test-405', 'test-406', 'test-407', 'test-408', 'test-409', 'test-410', 'test-411', 'test-412', 'test-413', 'test-414', 'test-415', 'test-416', 'test-417', 'test-418', 'test-419', 'test-420', 'test-421', 'test-422', 'test-423', 'test-424', 'test-425', 'test-426', 'test-427', 'test-428', 'test-429', 'test-430', 'test-431', 'test-432', 'test-433', 'test-434', 'test-435', 'test-436', 'test-437', 'test-438', 'test-439', 'test-440', 'test-441', 'test-442', 'test-443', 'test-444', 'test-445', 'test-446', 'test-447', 'test-448', 'test-449', 'test-450', 'test-451', 'test-452', 'test-453', 'test-454', 'test-455', 'test-456', 'test-457', 'test-458', 'test-459', 'test-460', 'test-461', 'test-462', 'test-463', 'test-464', 'test-465', 'test-466', 'test-467', 'test-468', 'test-469', 'test-470', 'test-471', 'test-472', 'test-473', 'test-474', 'test-475', 'test-476', 'test-477', 'test-478', 'test-479', 'test-480', 'test-481', 'test-482', 'test-483', 'test-484', 'test-485', 'test-486', 'test-487', 'test-488', 'test-489', 'test-490', 'test-491', 'test-492', 'test-493', 'test-494', 'test-495', 'test-496', 'test-497', 'test-498', 'test-499', 'test-500', 'test-501', 'test-502', 'test-503', 'test-504', 'test-505', 'test-506', 'test-507', 'test-508', 'test-509', 'test-510', 'test-511', 'test-512', 'test-513', 'test-514', 'test-515', 'test-516', 'test-517', 'test-518', 'test-519', 'test-520', 'test-521', 'test-522', 'test-523', 'test-524', 'test-525', 'test-526', 'test-527', 'test-528', 'test-529', 'test-530', 'test-531', 'test-532', 'test-533', 'test-534', 'test-535', 'test-536', 'test-537', 'test-538', 'test-539', 'test-540', 'test-541', 'test-542', 'test-543', 'test-544', 'test-545', 'test-546', 'test-547', 'test-548', 'test-549', 'test-550', 'test-551', 'test-552', 'test-553', 'test-554', 'test-555', 'test-556', 'test-557', 'test-558', 'test-559', 'test-560', 'test-561', 'test-562', 'test-563', 'test-564', 'test-565', 'test-566', 'test-567', 'test-568', 'test-569', 'test-570', 'test-571', 'test-572', 'test-573', 'test-574', 'test-575', 'test-576', 'test-577', 'test-578', 'test-579', 'test-580', 'test-581', 'test-582', 'test-583', 'test-584', 'test-585', 'test-586', 'test-587', 'test-588', 'test-589', 'test-590', 'test-591', 'test-592', 'test-593', 'test-594', 'test-595', 'test-596', 'test-597', 'test-598', 'test-599', 'test-600', 'test-601', 'test-602', 'test-603', 'test-604', 'test-605', 'test-606', 'test-607', 'test-608', 'test-609', 'test-610', 'test-611', 'test-612', 'test-613', 'test-614', 'test-615', 'test-616', 'test-617', 'test-618', 'test-619', 'test-620', 'test-621', 'test-622', 'test-623', 'test-624', 'test-625', 'test-626', 'test-627', 'test-628', 'test-629', 'test-630', 'test-631', 'test-632', 'test-633', 'test-634', 'test-635', 'test-636', 'test-637', 'test-638', 'test-639', 'test-640', 'test-641', 'test-642', 'test-643', 'test-644', 'test-645', 'test-646', 'test-647', 'test-648', 'test-649', 'test-650', 'test-651', 'test-652', 'test-653', 'test-654', 'test-655', 'test-656', 'test-657', 'test-658', 'test-659', 'test-660', 'test-661', 'test-662', 'test-663', 'test-664', 'test-665', 'test-666', 'test-667', 'test-668', 'test-669', 'test-670', 'test-671', 'test-672', 'test-673', 'test-674', 'test-675', 'test-676', 'test-677', 'test-678', 'test-679', 'test-680', 'test-681', 'test-682', 'test-683', 'test-684', 'test-685', 'test-686', 'test-687', 'test-688', 'test-689', 'test-690', 'test-691', 'test-692', 'test-693', 'test-694', 'test-695', 'test-696', 'test-697', 'test-698', 'test-699', 'test-700', 'test-701', 'test-702', 'test-703', 'test-704', 'test-705', 'test-706', 'test-707', 'test-708', 'test-709', 'test-710', 'test-711', 'test-712', 'test-713', 'test-714', 'test-715', 'test-716', 'test-717', 'test-718', 'test-719', 'test-720', 'test-721', 'test-722', 'test-723', 'test-724', 'test-725', 'test-726', 'test-727', 'test-728', 'test-729', 'test-730', 'test-731', 'test-732', 'test-733', 'test-734', 'test-735', 'test-736', 'test-737', 'test-738', 'test-739', 'test-740', 'test-741', 'test-742', 'test-743', 'test-744', 'test-745', 'test-746', 'test-747', 'test-748', 'test-749', 'test-750', 'test-751', 'test-752', 'test-753', 'test-754', 'test-755', 'test-756', 'test-757', 'test-758', 'test-759', 'test-760', 'test-761', 'test-762', 'test-763', 'test-764', 'test-765', 'test-766', 'test-767', 'test-768', 'test-769', 'test-770', 'test-771', 'test-772', 'test-773', 'test-774', 'test-775', 'test-776', 'test-777', 'test-778', 'test-779', 'test-780', 'test-781', 'test-782', 'test-783', 'test-784', 'test-785', 'test-786', 'test-787', 'test-788', 'test-789', 'test-790', 'test-791', 'test-792', 'test-793', 'test-794', 'test-795', 'test-796', 'test-797', 'test-798', 'test-799', 'test-800', 'test-801', 'test-802', 'test-803', 'test-804', 'test-805', 'test-806', 'test-807', 'test-808', 'test-809', 'test-810', 'test-811', 'test-812', 'test-813', 'test-814', 'test-815', 'test-816', 'test-817', 'test-818', 'test-819', 'test-820', 'test-821', 'test-822', 'test-823', 'test-824', 'test-825', 'test-826', 'test-827', 'test-828', 'test-829', 'test-830', 'test-831', 'test-832', 'test-833', 'test-834', 'test-835', 'test-836', 'test-837', 'test-838', 'test-839', 'test-840', 'test-841', 'test-842', 'test-843', 'test-844', 'test-845', 'test-846', 'test-847', 'test-848', 'test-849', 'test-850', 'test-851', 'test-852', 'test-853', 'test-854', 'test-855', 'test-856', 'test-857', 'test-858', 'test-859', 'test-860', 'test-861', 'test-862', 'test-863', 'test-864', 'test-865', 'test-866', 'test-867', 'test-868', 'test-869', 'test-870', 'test-871', 'test-872', 'test-873', 'test-874', 'test-875', 'test-876', 'test-877', 'test-878', 'test-879', 'test-880', 'test-881', 'test-882', 'test-883', 'test-884', 'test-885', 'test-886', 'test-887', 'test-888', 'test-889', 'test-890', 'test-891', 'test-892', 'test-893', 'test-894', 'test-895', 'test-896', 'test-897', 'test-898', 'test-899', 'test-900', 'test-901', 'test-902', 'test-903', 'test-904', 'test-905', 'test-906', 'test-907', 'test-908', 'test-909', 'test-910', 'test-911', 'test-912', 'test-913', 'test-914', 'test-915', 'test-916', 'test-917', 'test-918', 'test-919', 'test-920', 'test-921', 'test-922', 'test-923', 'test-924', 'test-925', 'test-926', 'test-927', 'test-928', 'test-929', 'test-930', 'test-931', 'test-932', 'test-933', 'test-934', 'test-935', 'test-936', 'test-937', 'test-938', 'test-939', 'test-940', 'test-941', 'test-942', 'test-943', 'test-944', 'test-945', 'test-946', 'test-947', 'test-948', 'test-949', 'test-950', 'test-951', 'test-952', 'test-953', 'test-954', 'test-955', 'test-956', 'test-957', 'test-958', 'test-959', 'test-960', 'test-961', 'test-962', 'test-963', 'test-964', 'test-965', 'test-966', 'test-967', 'test-968', 'test-969', 'test-970', 'test-971', 'test-972', 'test-973', 'test-974', 'test-975', 'test-976', 'test-977', 'test-978', 'test-979', 'test-980', 'test-981', 'test-982', 'test-983', 'test-984', 'test-985', 'test-986', 'test-987', 'test-988', 'test-989', 'test-990', 'test-991', 'test-992', 'test-993', 'test-994', 'test-995', 'test-996', 'test-997', 'test-998', 'test-999', 'test-1000', 'test-1001', 'test-1002', 'test-1003', 'test-1004', 'test-1005', 'test-1006', 'test-1007', 'test-1008', 'test-1009', 'test-1010', 'test-1011', 'test-1012', 'test-1013', 'test-1014', 'test-1015', 'test-1016', 'test-1017', 'test-1018', 'test-1019', 'test-1020', 'test-1021', 'test-1022', 'test-1023', 'test-1024', 'test-1025', 'test-1026', 'test-1027', 'test-1028', 'test-1029', 'test-1030', 'test-1031', 'test-1032', 'test-1033', 'test-1034', 'test-1035', 'test-1036', 'test-1037', 'test-1038', 'test-1039', 'test-1040', 'test-1041', 'test-1042', 'test-1043', 'test-1044', 'test-1045', 'test-1046', 'test-1047', 'test-1048', 'test-1049', 'test-1050', 'test-1051', 'test-1052', 'test-1053', 'test-1054', 'test-1055', 'test-1056', 'test-1057', 'test-1058', 'test-1059', 'test-1060', 'test-1061', 'test-1062', 'test-1063', 'test-1064', 'test-1065', 'test-1066', 'test-1067', 'test-1068', 'test-1069', 'test-1070', 'test-1071', 'test-1072', 'test-1073', 'test-1074', 'test-1075', 'test-1076', 'test-1077', 'test-1078', 'test-1079', 'test-1080', 'test-1081', 'test-1082', 'test-1083', 'test-1084', 'test-1085', 'test-1086', 'test-1087', 'test-1088', 'test-1089', 'test-1090', 'test-1091', 'test-1092', 'test-1093', 'test-1094', 'test-1095', 'test-1096', 'test-1097', 'test-1098', 'test-1099', 'test-1100', 'test-1101', 'test-1102', 'test-1103', 'test-1104', 'test-1105', 'test-1106', 'test-1107', 'test-1108', 'test-1109', 'test-1110', 'test-1111', 'test-1112', 'test-1113', 'test-1114', 'test-1115', 'test-1116', 'test-1117', 'test-1118', 'test-1119', 'test-1120', 'test-1121', 'test-1122', 'test-1123', 'test-1124', 'test-1125', 'test-1126', 'test-1127', 'test-1128', 'test-1129', 'test-1130', 'test-1131', 'test-1132', 'test-1133', 'test-1134', 'test-1135', 'test-1136', 'test-1137', 'test-1138', 'test-1139', 'test-1140', 'test-1141', 'test-1142', 'test-1143', 'test-1144', 'test-1145', 'test-1146', 'test-1147', 'test-1148', 'test-1149', 'test-1150', 'test-1151', 'test-1152', 'test-1153', 'test-1154', 'test-1155', 'test-1156', 'test-1157', 'test-1158', 'test-1159', 'test-1160', 'test-1161', 'test-1162', 'test-1163', 'test-1164', 'test-1165', 'test-1166', 'test-1167', 'test-1168', 'test-1169', 'test-1170', 'test-1171', 'test-1172', 'test-1173', 'test-1174', 'test-1175', 'test-1176', 'test-1177', 'test-1178', 'test-1179', 'test-1180', 'test-1181', 'test-1182', 'test-1183', 'test-1184', 'test-1185', 'test-1186', 'test-1187', 'test-1188', 'test-1189', 'test-1190', 'test-1191', 'test-1192', 'test-1193', 'test-1194', 'test-1195', 'test-1196', 'test-1197', 'test-1198', 'test-1199', 'test-1200', 'test-1201', 'test-1202', 'test-1203', 'test-1204', 'test-1205', 'test-1206', 'test-1207', 'test-1208', 'test-1209', 'test-1210', 'test-1211', 'test-1212', 'test-1213', 'test-1214', 'test-1215', 'test-1216', 'test-1217', 'test-1218', 'test-1219', 'test-1220', 'test-1221', 'test-1222', 'test-1223', 'test-1224', 'test-1225', 'test-1226', 'test-1227', 'test-1228', 'test-1229', 'test-1230', 'test-1231', 'test-1232', 'test-1233', 'test-1234', 'test-1235', 'test-1236', 'test-1237', 'test-1238', 'test-1239', 'test-1240', 'test-1241', 'test-1242', 'test-1243', 'test-1244', 'test-1245', 'test-1246', 'test-1247', 'test-1248', 'test-1249', 'test-1250', 'test-1251', 'test-1252', 'test-1253', 'test-1254', 'test-1255', 'test-1256', 'test-1257', 'test-1258', 'test-1259', 'test-1260', 'test-1261', 'test-1262', 'test-1263', 'test-1264', 'test-1265', 'test-1266', 'test-1267', 'test-1268', 'test-1269', 'test-1270', 'test-1271', 'test-1272', 'test-1273', 'test-1274', 'test-1275', 'test-1276', 'test-1277', 'test-1278', 'test-1279', 'test-1280', 'test-1281', 'test-1282', 'test-1283', 'test-1284', 'test-1285', 'test-1286', 'test-1287', 'test-1288', 'test-1289', 'test-1290', 'test-1291', 'test-1292', 'test-1293', 'test-1294', 'test-1295', 'test-1296', 'test-1297', 'test-1298', 'test-1299', 'test-1300', 'test-1301', 'test-1302', 'test-1303', 'test-1304', 'test-1305', 'test-1306', 'test-1307', 'test-1308', 'test-1309', 'test-1310', 'test-1311', 'test-1312', 'test-1313', 'test-1314', 'test-1315', 'test-1316', 'test-1317', 'test-1318', 'test-1319', 'test-1320', 'test-1321', 'test-1322', 'test-1323', 'test-1324', 'test-1325', 'test-1326', 'test-1327', 'test-1328', 'test-1329', 'test-1330', 'test-1331', 'test-1332', 'test-1333', 'test-1334', 'test-1335', 'test-1336', 'test-1337', 'test-1338', 'test-1339', 'test-1340', 'test-1341', 'test-1342', 'test-1343', 'test-1344', 'test-1345', 'test-1346', 'test-1347', 'test-1348', 'test-1349', 'test-1350', 'test-1351', 'test-1352', 'test-1353', 'test-1354', 'test-1355', 'test-1356', 'test-1357', 'test-1358', 'test-1359', 'test-1360', 'test-1361', 'test-1362', 'test-1363', 'test-1364', 'test-1365', 'test-1366', 'test-1367', 'test-1368', 'test-1369', 'test-1370', 'test-1371', 'test-1372', 'test-1373', 'test-1374', 'test-1375', 'test-1376', 'test-1377', 'test-1378', 'test-1379', 'test-1380', 'test-1381', 'test-1382', 'test-1383', 'test-1384', 'test-1385', 'test-1386', 'test-1387', 'test-1388', 'test-1389', 'test-1390', 'test-1391', 'test-1392', 'test-1393', 'test-1394', 'test-1395', 'test-1396', 'test-1397', 'test-1398', 'test-1399', 'test-1400', 'test-1401', 'test-1402', 'test-1403', 'test-1404', 'test-1405', 'test-1406', 'test-1407', 'test-1408', 'test-1409']\n"
     ]
    }
   ],
   "source": [
    "result = []\n",
    "for item in range(1410):\n",
    "    i = 'test-' + str(item)\n",
    "    result.append(i)\n",
    "print(result)"
   ]
  },
  {
   "cell_type": "code",
   "execution_count": 44,
   "metadata": {},
   "outputs": [
    {
     "name": "stdout",
     "output_type": "stream",
     "text": [
      "{'test-0': {'label': 0}, 'test-1': {'label': 0}, 'test-2': {'label': 0}, 'test-3': {'label': 0}, 'test-4': {'label': 1}, 'test-5': {'label': 0}, 'test-6': {'label': 0}, 'test-7': {'label': 0}, 'test-8': {'label': 0}, 'test-9': {'label': 1}, 'test-10': {'label': 0}, 'test-11': {'label': 0}, 'test-12': {'label': 0}, 'test-13': {'label': 0}, 'test-14': {'label': 1}, 'test-15': {'label': 0}, 'test-16': {'label': 0}, 'test-17': {'label': 0}, 'test-18': {'label': 0}, 'test-19': {'label': 1}, 'test-20': {'label': 0}, 'test-21': {'label': 0}, 'test-22': {'label': 0}, 'test-23': {'label': 0}, 'test-24': {'label': 1}, 'test-25': {'label': 0}, 'test-26': {'label': 0}, 'test-27': {'label': 0}, 'test-28': {'label': 0}, 'test-29': {'label': 1}, 'test-30': {'label': 0}, 'test-31': {'label': 0}, 'test-32': {'label': 0}, 'test-33': {'label': 0}, 'test-34': {'label': 1}, 'test-35': {'label': 0}, 'test-36': {'label': 0}, 'test-37': {'label': 0}, 'test-38': {'label': 0}, 'test-39': {'label': 1}, 'test-40': {'label': 0}, 'test-41': {'label': 0}, 'test-42': {'label': 0}, 'test-43': {'label': 0}, 'test-44': {'label': 1}, 'test-45': {'label': 0}, 'test-46': {'label': 0}, 'test-47': {'label': 0}, 'test-48': {'label': 0}, 'test-49': {'label': 1}, 'test-50': {'label': 0}, 'test-51': {'label': 0}, 'test-52': {'label': 0}, 'test-53': {'label': 0}, 'test-54': {'label': 1}, 'test-55': {'label': 0}, 'test-56': {'label': 0}, 'test-57': {'label': 0}, 'test-58': {'label': 0}, 'test-59': {'label': 1}, 'test-60': {'label': 0}, 'test-61': {'label': 0}, 'test-62': {'label': 0}, 'test-63': {'label': 0}, 'test-64': {'label': 1}, 'test-65': {'label': 0}, 'test-66': {'label': 0}, 'test-67': {'label': 0}, 'test-68': {'label': 0}, 'test-69': {'label': 1}, 'test-70': {'label': 0}, 'test-71': {'label': 0}, 'test-72': {'label': 0}, 'test-73': {'label': 0}, 'test-74': {'label': 1}, 'test-75': {'label': 0}, 'test-76': {'label': 0}, 'test-77': {'label': 0}, 'test-78': {'label': 0}, 'test-79': {'label': 1}, 'test-80': {'label': 0}, 'test-81': {'label': 0}, 'test-82': {'label': 0}, 'test-83': {'label': 0}, 'test-84': {'label': 1}, 'test-85': {'label': 0}, 'test-86': {'label': 0}, 'test-87': {'label': 0}, 'test-88': {'label': 0}, 'test-89': {'label': 1}, 'test-90': {'label': 0}, 'test-91': {'label': 0}, 'test-92': {'label': 0}, 'test-93': {'label': 0}, 'test-94': {'label': 1}, 'test-95': {'label': 0}, 'test-96': {'label': 0}, 'test-97': {'label': 0}, 'test-98': {'label': 0}, 'test-99': {'label': 1}, 'test-100': {'label': 0}, 'test-101': {'label': 0}, 'test-102': {'label': 0}, 'test-103': {'label': 0}, 'test-104': {'label': 1}, 'test-105': {'label': 0}, 'test-106': {'label': 0}, 'test-107': {'label': 0}, 'test-108': {'label': 0}, 'test-109': {'label': 1}, 'test-110': {'label': 0}, 'test-111': {'label': 0}, 'test-112': {'label': 0}, 'test-113': {'label': 0}, 'test-114': {'label': 1}, 'test-115': {'label': 0}, 'test-116': {'label': 0}, 'test-117': {'label': 0}, 'test-118': {'label': 0}, 'test-119': {'label': 1}, 'test-120': {'label': 0}, 'test-121': {'label': 0}, 'test-122': {'label': 0}, 'test-123': {'label': 0}, 'test-124': {'label': 1}, 'test-125': {'label': 0}, 'test-126': {'label': 0}, 'test-127': {'label': 0}, 'test-128': {'label': 0}, 'test-129': {'label': 1}, 'test-130': {'label': 0}, 'test-131': {'label': 0}, 'test-132': {'label': 0}, 'test-133': {'label': 0}, 'test-134': {'label': 1}, 'test-135': {'label': 0}, 'test-136': {'label': 0}, 'test-137': {'label': 0}, 'test-138': {'label': 0}, 'test-139': {'label': 1}, 'test-140': {'label': 0}, 'test-141': {'label': 0}, 'test-142': {'label': 0}, 'test-143': {'label': 0}, 'test-144': {'label': 1}, 'test-145': {'label': 0}, 'test-146': {'label': 0}, 'test-147': {'label': 0}, 'test-148': {'label': 0}, 'test-149': {'label': 1}, 'test-150': {'label': 0}, 'test-151': {'label': 0}, 'test-152': {'label': 0}, 'test-153': {'label': 0}, 'test-154': {'label': 1}, 'test-155': {'label': 0}, 'test-156': {'label': 0}, 'test-157': {'label': 0}, 'test-158': {'label': 0}, 'test-159': {'label': 1}, 'test-160': {'label': 0}, 'test-161': {'label': 0}, 'test-162': {'label': 0}, 'test-163': {'label': 0}, 'test-164': {'label': 1}, 'test-165': {'label': 0}, 'test-166': {'label': 0}, 'test-167': {'label': 0}, 'test-168': {'label': 0}, 'test-169': {'label': 1}, 'test-170': {'label': 0}, 'test-171': {'label': 0}, 'test-172': {'label': 0}, 'test-173': {'label': 0}, 'test-174': {'label': 1}, 'test-175': {'label': 0}, 'test-176': {'label': 0}, 'test-177': {'label': 0}, 'test-178': {'label': 0}, 'test-179': {'label': 1}, 'test-180': {'label': 0}, 'test-181': {'label': 0}, 'test-182': {'label': 0}, 'test-183': {'label': 0}, 'test-184': {'label': 1}, 'test-185': {'label': 0}, 'test-186': {'label': 0}, 'test-187': {'label': 0}, 'test-188': {'label': 0}, 'test-189': {'label': 1}, 'test-190': {'label': 0}, 'test-191': {'label': 0}, 'test-192': {'label': 0}, 'test-193': {'label': 0}, 'test-194': {'label': 1}, 'test-195': {'label': 0}, 'test-196': {'label': 0}, 'test-197': {'label': 0}, 'test-198': {'label': 0}, 'test-199': {'label': 1}, 'test-200': {'label': 0}, 'test-201': {'label': 0}, 'test-202': {'label': 0}, 'test-203': {'label': 0}, 'test-204': {'label': 1}, 'test-205': {'label': 0}, 'test-206': {'label': 0}, 'test-207': {'label': 0}, 'test-208': {'label': 0}, 'test-209': {'label': 1}, 'test-210': {'label': 0}, 'test-211': {'label': 0}, 'test-212': {'label': 0}, 'test-213': {'label': 0}, 'test-214': {'label': 1}, 'test-215': {'label': 0}, 'test-216': {'label': 0}, 'test-217': {'label': 0}, 'test-218': {'label': 0}, 'test-219': {'label': 1}, 'test-220': {'label': 0}, 'test-221': {'label': 0}, 'test-222': {'label': 0}, 'test-223': {'label': 0}, 'test-224': {'label': 1}, 'test-225': {'label': 0}, 'test-226': {'label': 0}, 'test-227': {'label': 0}, 'test-228': {'label': 0}, 'test-229': {'label': 1}, 'test-230': {'label': 0}, 'test-231': {'label': 0}, 'test-232': {'label': 0}, 'test-233': {'label': 0}, 'test-234': {'label': 1}, 'test-235': {'label': 0}, 'test-236': {'label': 0}, 'test-237': {'label': 0}, 'test-238': {'label': 0}, 'test-239': {'label': 1}, 'test-240': {'label': 0}, 'test-241': {'label': 0}, 'test-242': {'label': 0}, 'test-243': {'label': 0}, 'test-244': {'label': 1}, 'test-245': {'label': 0}, 'test-246': {'label': 0}, 'test-247': {'label': 0}, 'test-248': {'label': 0}, 'test-249': {'label': 1}, 'test-250': {'label': 0}, 'test-251': {'label': 0}, 'test-252': {'label': 0}, 'test-253': {'label': 0}, 'test-254': {'label': 1}, 'test-255': {'label': 0}, 'test-256': {'label': 0}, 'test-257': {'label': 0}, 'test-258': {'label': 0}, 'test-259': {'label': 1}, 'test-260': {'label': 0}, 'test-261': {'label': 0}, 'test-262': {'label': 0}, 'test-263': {'label': 0}, 'test-264': {'label': 1}, 'test-265': {'label': 0}, 'test-266': {'label': 0}, 'test-267': {'label': 0}, 'test-268': {'label': 0}, 'test-269': {'label': 1}, 'test-270': {'label': 0}, 'test-271': {'label': 0}, 'test-272': {'label': 0}, 'test-273': {'label': 0}, 'test-274': {'label': 1}, 'test-275': {'label': 0}, 'test-276': {'label': 0}, 'test-277': {'label': 0}, 'test-278': {'label': 0}, 'test-279': {'label': 1}, 'test-280': {'label': 0}, 'test-281': {'label': 0}, 'test-282': {'label': 0}, 'test-283': {'label': 0}, 'test-284': {'label': 1}, 'test-285': {'label': 0}, 'test-286': {'label': 0}, 'test-287': {'label': 0}, 'test-288': {'label': 0}, 'test-289': {'label': 1}, 'test-290': {'label': 0}, 'test-291': {'label': 0}, 'test-292': {'label': 0}, 'test-293': {'label': 0}, 'test-294': {'label': 1}, 'test-295': {'label': 0}, 'test-296': {'label': 0}, 'test-297': {'label': 0}, 'test-298': {'label': 0}, 'test-299': {'label': 1}, 'test-300': {'label': 0}, 'test-301': {'label': 0}, 'test-302': {'label': 0}, 'test-303': {'label': 0}, 'test-304': {'label': 1}, 'test-305': {'label': 0}, 'test-306': {'label': 0}, 'test-307': {'label': 0}, 'test-308': {'label': 0}, 'test-309': {'label': 1}, 'test-310': {'label': 0}, 'test-311': {'label': 0}, 'test-312': {'label': 0}, 'test-313': {'label': 0}, 'test-314': {'label': 1}, 'test-315': {'label': 0}, 'test-316': {'label': 0}, 'test-317': {'label': 0}, 'test-318': {'label': 0}, 'test-319': {'label': 1}, 'test-320': {'label': 0}, 'test-321': {'label': 0}, 'test-322': {'label': 0}, 'test-323': {'label': 0}, 'test-324': {'label': 1}, 'test-325': {'label': 0}, 'test-326': {'label': 0}, 'test-327': {'label': 0}, 'test-328': {'label': 0}, 'test-329': {'label': 1}, 'test-330': {'label': 0}, 'test-331': {'label': 0}, 'test-332': {'label': 0}, 'test-333': {'label': 0}, 'test-334': {'label': 1}, 'test-335': {'label': 0}, 'test-336': {'label': 0}, 'test-337': {'label': 0}, 'test-338': {'label': 0}, 'test-339': {'label': 1}, 'test-340': {'label': 0}, 'test-341': {'label': 0}, 'test-342': {'label': 0}, 'test-343': {'label': 0}, 'test-344': {'label': 1}, 'test-345': {'label': 0}, 'test-346': {'label': 0}, 'test-347': {'label': 0}, 'test-348': {'label': 0}, 'test-349': {'label': 1}, 'test-350': {'label': 0}, 'test-351': {'label': 0}, 'test-352': {'label': 0}, 'test-353': {'label': 0}, 'test-354': {'label': 1}, 'test-355': {'label': 0}, 'test-356': {'label': 0}, 'test-357': {'label': 0}, 'test-358': {'label': 0}, 'test-359': {'label': 1}, 'test-360': {'label': 0}, 'test-361': {'label': 0}, 'test-362': {'label': 0}, 'test-363': {'label': 0}, 'test-364': {'label': 1}, 'test-365': {'label': 0}, 'test-366': {'label': 0}, 'test-367': {'label': 0}, 'test-368': {'label': 0}, 'test-369': {'label': 1}, 'test-370': {'label': 0}, 'test-371': {'label': 0}, 'test-372': {'label': 0}, 'test-373': {'label': 0}, 'test-374': {'label': 1}, 'test-375': {'label': 0}, 'test-376': {'label': 0}, 'test-377': {'label': 0}, 'test-378': {'label': 0}, 'test-379': {'label': 1}, 'test-380': {'label': 0}, 'test-381': {'label': 0}, 'test-382': {'label': 0}, 'test-383': {'label': 0}, 'test-384': {'label': 1}, 'test-385': {'label': 0}, 'test-386': {'label': 0}, 'test-387': {'label': 0}, 'test-388': {'label': 0}, 'test-389': {'label': 1}, 'test-390': {'label': 0}, 'test-391': {'label': 0}, 'test-392': {'label': 0}, 'test-393': {'label': 0}, 'test-394': {'label': 1}, 'test-395': {'label': 0}, 'test-396': {'label': 0}, 'test-397': {'label': 0}, 'test-398': {'label': 0}, 'test-399': {'label': 1}, 'test-400': {'label': 0}, 'test-401': {'label': 0}, 'test-402': {'label': 0}, 'test-403': {'label': 0}, 'test-404': {'label': 1}, 'test-405': {'label': 0}, 'test-406': {'label': 0}, 'test-407': {'label': 0}, 'test-408': {'label': 0}, 'test-409': {'label': 1}, 'test-410': {'label': 0}, 'test-411': {'label': 0}, 'test-412': {'label': 0}, 'test-413': {'label': 0}, 'test-414': {'label': 1}, 'test-415': {'label': 0}, 'test-416': {'label': 0}, 'test-417': {'label': 0}, 'test-418': {'label': 0}, 'test-419': {'label': 1}, 'test-420': {'label': 0}, 'test-421': {'label': 0}, 'test-422': {'label': 0}, 'test-423': {'label': 0}, 'test-424': {'label': 1}, 'test-425': {'label': 0}, 'test-426': {'label': 0}, 'test-427': {'label': 0}, 'test-428': {'label': 0}, 'test-429': {'label': 1}, 'test-430': {'label': 0}, 'test-431': {'label': 0}, 'test-432': {'label': 0}, 'test-433': {'label': 0}, 'test-434': {'label': 1}, 'test-435': {'label': 0}, 'test-436': {'label': 0}, 'test-437': {'label': 0}, 'test-438': {'label': 0}, 'test-439': {'label': 1}, 'test-440': {'label': 0}, 'test-441': {'label': 0}, 'test-442': {'label': 0}, 'test-443': {'label': 0}, 'test-444': {'label': 1}, 'test-445': {'label': 0}, 'test-446': {'label': 0}, 'test-447': {'label': 0}, 'test-448': {'label': 0}, 'test-449': {'label': 1}, 'test-450': {'label': 0}, 'test-451': {'label': 0}, 'test-452': {'label': 0}, 'test-453': {'label': 0}, 'test-454': {'label': 1}, 'test-455': {'label': 0}, 'test-456': {'label': 0}, 'test-457': {'label': 0}, 'test-458': {'label': 0}, 'test-459': {'label': 1}, 'test-460': {'label': 0}, 'test-461': {'label': 0}, 'test-462': {'label': 0}, 'test-463': {'label': 0}, 'test-464': {'label': 1}, 'test-465': {'label': 0}, 'test-466': {'label': 0}, 'test-467': {'label': 0}, 'test-468': {'label': 0}, 'test-469': {'label': 1}, 'test-470': {'label': 0}, 'test-471': {'label': 0}, 'test-472': {'label': 0}, 'test-473': {'label': 0}, 'test-474': {'label': 1}, 'test-475': {'label': 0}, 'test-476': {'label': 0}, 'test-477': {'label': 0}, 'test-478': {'label': 0}, 'test-479': {'label': 1}, 'test-480': {'label': 0}, 'test-481': {'label': 0}, 'test-482': {'label': 0}, 'test-483': {'label': 0}, 'test-484': {'label': 1}, 'test-485': {'label': 0}, 'test-486': {'label': 0}, 'test-487': {'label': 0}, 'test-488': {'label': 0}, 'test-489': {'label': 1}, 'test-490': {'label': 0}, 'test-491': {'label': 0}, 'test-492': {'label': 0}, 'test-493': {'label': 0}, 'test-494': {'label': 1}, 'test-495': {'label': 0}, 'test-496': {'label': 0}, 'test-497': {'label': 0}, 'test-498': {'label': 0}, 'test-499': {'label': 1}, 'test-500': {'label': 0}, 'test-501': {'label': 0}, 'test-502': {'label': 0}, 'test-503': {'label': 0}, 'test-504': {'label': 1}, 'test-505': {'label': 0}, 'test-506': {'label': 0}, 'test-507': {'label': 0}, 'test-508': {'label': 0}, 'test-509': {'label': 1}, 'test-510': {'label': 0}, 'test-511': {'label': 0}, 'test-512': {'label': 0}, 'test-513': {'label': 0}, 'test-514': {'label': 1}, 'test-515': {'label': 0}, 'test-516': {'label': 0}, 'test-517': {'label': 0}, 'test-518': {'label': 0}, 'test-519': {'label': 1}, 'test-520': {'label': 0}, 'test-521': {'label': 0}, 'test-522': {'label': 0}, 'test-523': {'label': 0}, 'test-524': {'label': 1}, 'test-525': {'label': 0}, 'test-526': {'label': 0}, 'test-527': {'label': 0}, 'test-528': {'label': 0}, 'test-529': {'label': 1}, 'test-530': {'label': 0}, 'test-531': {'label': 0}, 'test-532': {'label': 0}, 'test-533': {'label': 0}, 'test-534': {'label': 1}, 'test-535': {'label': 0}, 'test-536': {'label': 0}, 'test-537': {'label': 0}, 'test-538': {'label': 0}, 'test-539': {'label': 1}, 'test-540': {'label': 0}, 'test-541': {'label': 0}, 'test-542': {'label': 0}, 'test-543': {'label': 0}, 'test-544': {'label': 1}, 'test-545': {'label': 0}, 'test-546': {'label': 0}, 'test-547': {'label': 0}, 'test-548': {'label': 0}, 'test-549': {'label': 1}, 'test-550': {'label': 0}, 'test-551': {'label': 0}, 'test-552': {'label': 0}, 'test-553': {'label': 0}, 'test-554': {'label': 1}, 'test-555': {'label': 0}, 'test-556': {'label': 0}, 'test-557': {'label': 0}, 'test-558': {'label': 0}, 'test-559': {'label': 1}, 'test-560': {'label': 0}, 'test-561': {'label': 0}, 'test-562': {'label': 0}, 'test-563': {'label': 0}, 'test-564': {'label': 1}, 'test-565': {'label': 0}, 'test-566': {'label': 0}, 'test-567': {'label': 0}, 'test-568': {'label': 0}, 'test-569': {'label': 1}, 'test-570': {'label': 0}, 'test-571': {'label': 0}, 'test-572': {'label': 0}, 'test-573': {'label': 0}, 'test-574': {'label': 1}, 'test-575': {'label': 0}, 'test-576': {'label': 0}, 'test-577': {'label': 0}, 'test-578': {'label': 0}, 'test-579': {'label': 1}, 'test-580': {'label': 0}, 'test-581': {'label': 0}, 'test-582': {'label': 0}, 'test-583': {'label': 0}, 'test-584': {'label': 1}, 'test-585': {'label': 0}, 'test-586': {'label': 0}, 'test-587': {'label': 0}, 'test-588': {'label': 0}, 'test-589': {'label': 1}, 'test-590': {'label': 0}, 'test-591': {'label': 0}, 'test-592': {'label': 0}, 'test-593': {'label': 0}, 'test-594': {'label': 1}, 'test-595': {'label': 0}, 'test-596': {'label': 0}, 'test-597': {'label': 0}, 'test-598': {'label': 0}, 'test-599': {'label': 1}, 'test-600': {'label': 0}, 'test-601': {'label': 0}, 'test-602': {'label': 0}, 'test-603': {'label': 0}, 'test-604': {'label': 1}, 'test-605': {'label': 0}, 'test-606': {'label': 0}, 'test-607': {'label': 0}, 'test-608': {'label': 0}, 'test-609': {'label': 1}, 'test-610': {'label': 0}, 'test-611': {'label': 0}, 'test-612': {'label': 0}, 'test-613': {'label': 0}, 'test-614': {'label': 1}, 'test-615': {'label': 0}, 'test-616': {'label': 0}, 'test-617': {'label': 0}, 'test-618': {'label': 0}, 'test-619': {'label': 1}, 'test-620': {'label': 0}, 'test-621': {'label': 0}, 'test-622': {'label': 0}, 'test-623': {'label': 0}, 'test-624': {'label': 1}, 'test-625': {'label': 0}, 'test-626': {'label': 0}, 'test-627': {'label': 0}, 'test-628': {'label': 0}, 'test-629': {'label': 1}, 'test-630': {'label': 0}, 'test-631': {'label': 0}, 'test-632': {'label': 0}, 'test-633': {'label': 0}, 'test-634': {'label': 1}, 'test-635': {'label': 0}, 'test-636': {'label': 0}, 'test-637': {'label': 0}, 'test-638': {'label': 0}, 'test-639': {'label': 1}, 'test-640': {'label': 0}, 'test-641': {'label': 0}, 'test-642': {'label': 0}, 'test-643': {'label': 0}, 'test-644': {'label': 1}, 'test-645': {'label': 0}, 'test-646': {'label': 0}, 'test-647': {'label': 0}, 'test-648': {'label': 0}, 'test-649': {'label': 1}, 'test-650': {'label': 0}, 'test-651': {'label': 0}, 'test-652': {'label': 0}, 'test-653': {'label': 0}, 'test-654': {'label': 1}, 'test-655': {'label': 0}, 'test-656': {'label': 0}, 'test-657': {'label': 0}, 'test-658': {'label': 0}, 'test-659': {'label': 1}, 'test-660': {'label': 0}, 'test-661': {'label': 0}, 'test-662': {'label': 0}, 'test-663': {'label': 0}, 'test-664': {'label': 1}, 'test-665': {'label': 0}, 'test-666': {'label': 0}, 'test-667': {'label': 0}, 'test-668': {'label': 0}, 'test-669': {'label': 1}, 'test-670': {'label': 0}, 'test-671': {'label': 0}, 'test-672': {'label': 0}, 'test-673': {'label': 0}, 'test-674': {'label': 1}, 'test-675': {'label': 0}, 'test-676': {'label': 0}, 'test-677': {'label': 0}, 'test-678': {'label': 0}, 'test-679': {'label': 1}, 'test-680': {'label': 0}, 'test-681': {'label': 0}, 'test-682': {'label': 0}, 'test-683': {'label': 0}, 'test-684': {'label': 1}, 'test-685': {'label': 0}, 'test-686': {'label': 0}, 'test-687': {'label': 0}, 'test-688': {'label': 0}, 'test-689': {'label': 1}, 'test-690': {'label': 0}, 'test-691': {'label': 0}, 'test-692': {'label': 0}, 'test-693': {'label': 0}, 'test-694': {'label': 1}, 'test-695': {'label': 0}, 'test-696': {'label': 0}, 'test-697': {'label': 0}, 'test-698': {'label': 0}, 'test-699': {'label': 1}, 'test-700': {'label': 0}, 'test-701': {'label': 0}, 'test-702': {'label': 0}, 'test-703': {'label': 0}, 'test-704': {'label': 1}, 'test-705': {'label': 0}, 'test-706': {'label': 0}, 'test-707': {'label': 0}, 'test-708': {'label': 0}, 'test-709': {'label': 1}, 'test-710': {'label': 0}, 'test-711': {'label': 0}, 'test-712': {'label': 0}, 'test-713': {'label': 0}, 'test-714': {'label': 1}, 'test-715': {'label': 0}, 'test-716': {'label': 0}, 'test-717': {'label': 0}, 'test-718': {'label': 0}, 'test-719': {'label': 1}, 'test-720': {'label': 0}, 'test-721': {'label': 0}, 'test-722': {'label': 0}, 'test-723': {'label': 0}, 'test-724': {'label': 1}, 'test-725': {'label': 0}, 'test-726': {'label': 0}, 'test-727': {'label': 0}, 'test-728': {'label': 0}, 'test-729': {'label': 1}, 'test-730': {'label': 0}, 'test-731': {'label': 0}, 'test-732': {'label': 0}, 'test-733': {'label': 0}, 'test-734': {'label': 1}, 'test-735': {'label': 0}, 'test-736': {'label': 0}, 'test-737': {'label': 0}, 'test-738': {'label': 0}, 'test-739': {'label': 1}, 'test-740': {'label': 0}, 'test-741': {'label': 0}, 'test-742': {'label': 0}, 'test-743': {'label': 0}, 'test-744': {'label': 1}, 'test-745': {'label': 0}, 'test-746': {'label': 0}, 'test-747': {'label': 0}, 'test-748': {'label': 0}, 'test-749': {'label': 1}, 'test-750': {'label': 0}, 'test-751': {'label': 0}, 'test-752': {'label': 0}, 'test-753': {'label': 0}, 'test-754': {'label': 1}, 'test-755': {'label': 0}, 'test-756': {'label': 0}, 'test-757': {'label': 0}, 'test-758': {'label': 0}, 'test-759': {'label': 1}, 'test-760': {'label': 0}, 'test-761': {'label': 0}, 'test-762': {'label': 0}, 'test-763': {'label': 0}, 'test-764': {'label': 1}, 'test-765': {'label': 0}, 'test-766': {'label': 0}, 'test-767': {'label': 0}, 'test-768': {'label': 0}, 'test-769': {'label': 1}, 'test-770': {'label': 0}, 'test-771': {'label': 0}, 'test-772': {'label': 0}, 'test-773': {'label': 0}, 'test-774': {'label': 1}, 'test-775': {'label': 0}, 'test-776': {'label': 0}, 'test-777': {'label': 0}, 'test-778': {'label': 0}, 'test-779': {'label': 1}, 'test-780': {'label': 0}, 'test-781': {'label': 0}, 'test-782': {'label': 0}, 'test-783': {'label': 0}, 'test-784': {'label': 1}, 'test-785': {'label': 0}, 'test-786': {'label': 0}, 'test-787': {'label': 0}, 'test-788': {'label': 0}, 'test-789': {'label': 1}, 'test-790': {'label': 0}, 'test-791': {'label': 0}, 'test-792': {'label': 0}, 'test-793': {'label': 0}, 'test-794': {'label': 1}, 'test-795': {'label': 0}, 'test-796': {'label': 0}, 'test-797': {'label': 0}, 'test-798': {'label': 0}, 'test-799': {'label': 1}, 'test-800': {'label': 0}, 'test-801': {'label': 0}, 'test-802': {'label': 0}, 'test-803': {'label': 0}, 'test-804': {'label': 1}, 'test-805': {'label': 0}, 'test-806': {'label': 0}, 'test-807': {'label': 0}, 'test-808': {'label': 0}, 'test-809': {'label': 1}, 'test-810': {'label': 0}, 'test-811': {'label': 0}, 'test-812': {'label': 0}, 'test-813': {'label': 0}, 'test-814': {'label': 1}, 'test-815': {'label': 0}, 'test-816': {'label': 0}, 'test-817': {'label': 0}, 'test-818': {'label': 0}, 'test-819': {'label': 1}, 'test-820': {'label': 0}, 'test-821': {'label': 0}, 'test-822': {'label': 0}, 'test-823': {'label': 0}, 'test-824': {'label': 1}, 'test-825': {'label': 0}, 'test-826': {'label': 0}, 'test-827': {'label': 0}, 'test-828': {'label': 0}, 'test-829': {'label': 1}, 'test-830': {'label': 0}, 'test-831': {'label': 0}, 'test-832': {'label': 0}, 'test-833': {'label': 0}, 'test-834': {'label': 1}, 'test-835': {'label': 0}, 'test-836': {'label': 0}, 'test-837': {'label': 0}, 'test-838': {'label': 0}, 'test-839': {'label': 1}, 'test-840': {'label': 0}, 'test-841': {'label': 0}, 'test-842': {'label': 0}, 'test-843': {'label': 0}, 'test-844': {'label': 1}, 'test-845': {'label': 0}, 'test-846': {'label': 0}, 'test-847': {'label': 0}, 'test-848': {'label': 0}, 'test-849': {'label': 1}, 'test-850': {'label': 0}, 'test-851': {'label': 0}, 'test-852': {'label': 0}, 'test-853': {'label': 0}, 'test-854': {'label': 1}, 'test-855': {'label': 0}, 'test-856': {'label': 0}, 'test-857': {'label': 0}, 'test-858': {'label': 0}, 'test-859': {'label': 1}, 'test-860': {'label': 0}, 'test-861': {'label': 0}, 'test-862': {'label': 0}, 'test-863': {'label': 0}, 'test-864': {'label': 1}, 'test-865': {'label': 0}, 'test-866': {'label': 0}, 'test-867': {'label': 0}, 'test-868': {'label': 0}, 'test-869': {'label': 1}, 'test-870': {'label': 0}, 'test-871': {'label': 0}, 'test-872': {'label': 0}, 'test-873': {'label': 0}, 'test-874': {'label': 1}, 'test-875': {'label': 0}, 'test-876': {'label': 0}, 'test-877': {'label': 0}, 'test-878': {'label': 0}, 'test-879': {'label': 1}, 'test-880': {'label': 0}, 'test-881': {'label': 0}, 'test-882': {'label': 0}, 'test-883': {'label': 0}, 'test-884': {'label': 1}, 'test-885': {'label': 0}, 'test-886': {'label': 0}, 'test-887': {'label': 0}, 'test-888': {'label': 0}, 'test-889': {'label': 1}, 'test-890': {'label': 0}, 'test-891': {'label': 0}, 'test-892': {'label': 0}, 'test-893': {'label': 0}, 'test-894': {'label': 1}, 'test-895': {'label': 0}, 'test-896': {'label': 0}, 'test-897': {'label': 0}, 'test-898': {'label': 0}, 'test-899': {'label': 1}, 'test-900': {'label': 0}, 'test-901': {'label': 0}, 'test-902': {'label': 0}, 'test-903': {'label': 0}, 'test-904': {'label': 1}, 'test-905': {'label': 0}, 'test-906': {'label': 0}, 'test-907': {'label': 0}, 'test-908': {'label': 0}, 'test-909': {'label': 1}, 'test-910': {'label': 0}, 'test-911': {'label': 0}, 'test-912': {'label': 0}, 'test-913': {'label': 0}, 'test-914': {'label': 1}, 'test-915': {'label': 0}, 'test-916': {'label': 0}, 'test-917': {'label': 0}, 'test-918': {'label': 0}, 'test-919': {'label': 1}, 'test-920': {'label': 0}, 'test-921': {'label': 0}, 'test-922': {'label': 0}, 'test-923': {'label': 0}, 'test-924': {'label': 1}, 'test-925': {'label': 0}, 'test-926': {'label': 0}, 'test-927': {'label': 0}, 'test-928': {'label': 0}, 'test-929': {'label': 1}, 'test-930': {'label': 0}, 'test-931': {'label': 0}, 'test-932': {'label': 0}, 'test-933': {'label': 0}, 'test-934': {'label': 1}, 'test-935': {'label': 0}, 'test-936': {'label': 0}, 'test-937': {'label': 0}, 'test-938': {'label': 0}, 'test-939': {'label': 1}, 'test-940': {'label': 0}, 'test-941': {'label': 0}, 'test-942': {'label': 0}, 'test-943': {'label': 0}, 'test-944': {'label': 1}, 'test-945': {'label': 0}, 'test-946': {'label': 0}, 'test-947': {'label': 0}, 'test-948': {'label': 0}, 'test-949': {'label': 1}, 'test-950': {'label': 0}, 'test-951': {'label': 0}, 'test-952': {'label': 0}, 'test-953': {'label': 0}, 'test-954': {'label': 1}, 'test-955': {'label': 0}, 'test-956': {'label': 0}, 'test-957': {'label': 0}, 'test-958': {'label': 0}, 'test-959': {'label': 1}, 'test-960': {'label': 0}, 'test-961': {'label': 0}, 'test-962': {'label': 0}, 'test-963': {'label': 0}, 'test-964': {'label': 1}, 'test-965': {'label': 0}, 'test-966': {'label': 0}, 'test-967': {'label': 0}, 'test-968': {'label': 0}, 'test-969': {'label': 1}, 'test-970': {'label': 0}, 'test-971': {'label': 0}, 'test-972': {'label': 0}, 'test-973': {'label': 0}, 'test-974': {'label': 1}, 'test-975': {'label': 0}, 'test-976': {'label': 0}, 'test-977': {'label': 0}, 'test-978': {'label': 0}, 'test-979': {'label': 1}, 'test-980': {'label': 0}, 'test-981': {'label': 0}, 'test-982': {'label': 0}, 'test-983': {'label': 0}, 'test-984': {'label': 1}, 'test-985': {'label': 0}, 'test-986': {'label': 0}, 'test-987': {'label': 0}, 'test-988': {'label': 0}, 'test-989': {'label': 1}, 'test-990': {'label': 0}, 'test-991': {'label': 0}, 'test-992': {'label': 0}, 'test-993': {'label': 0}, 'test-994': {'label': 1}, 'test-995': {'label': 0}, 'test-996': {'label': 0}, 'test-997': {'label': 0}, 'test-998': {'label': 0}, 'test-999': {'label': 1}, 'test-1000': {'label': 0}, 'test-1001': {'label': 0}, 'test-1002': {'label': 0}, 'test-1003': {'label': 0}, 'test-1004': {'label': 1}, 'test-1005': {'label': 0}, 'test-1006': {'label': 0}, 'test-1007': {'label': 0}, 'test-1008': {'label': 0}, 'test-1009': {'label': 1}, 'test-1010': {'label': 0}, 'test-1011': {'label': 0}, 'test-1012': {'label': 0}, 'test-1013': {'label': 0}, 'test-1014': {'label': 1}, 'test-1015': {'label': 0}, 'test-1016': {'label': 0}, 'test-1017': {'label': 0}, 'test-1018': {'label': 0}, 'test-1019': {'label': 1}, 'test-1020': {'label': 0}, 'test-1021': {'label': 0}, 'test-1022': {'label': 0}, 'test-1023': {'label': 0}, 'test-1024': {'label': 1}, 'test-1025': {'label': 0}, 'test-1026': {'label': 0}, 'test-1027': {'label': 0}, 'test-1028': {'label': 0}, 'test-1029': {'label': 1}, 'test-1030': {'label': 0}, 'test-1031': {'label': 0}, 'test-1032': {'label': 0}, 'test-1033': {'label': 0}, 'test-1034': {'label': 1}, 'test-1035': {'label': 0}, 'test-1036': {'label': 0}, 'test-1037': {'label': 0}, 'test-1038': {'label': 0}, 'test-1039': {'label': 1}, 'test-1040': {'label': 0}, 'test-1041': {'label': 0}, 'test-1042': {'label': 0}, 'test-1043': {'label': 0}, 'test-1044': {'label': 1}, 'test-1045': {'label': 0}, 'test-1046': {'label': 0}, 'test-1047': {'label': 0}, 'test-1048': {'label': 0}, 'test-1049': {'label': 1}, 'test-1050': {'label': 0}, 'test-1051': {'label': 0}, 'test-1052': {'label': 0}, 'test-1053': {'label': 0}, 'test-1054': {'label': 1}, 'test-1055': {'label': 0}, 'test-1056': {'label': 0}, 'test-1057': {'label': 0}, 'test-1058': {'label': 0}, 'test-1059': {'label': 1}, 'test-1060': {'label': 0}, 'test-1061': {'label': 0}, 'test-1062': {'label': 0}, 'test-1063': {'label': 0}, 'test-1064': {'label': 1}, 'test-1065': {'label': 0}, 'test-1066': {'label': 0}, 'test-1067': {'label': 0}, 'test-1068': {'label': 0}, 'test-1069': {'label': 1}, 'test-1070': {'label': 0}, 'test-1071': {'label': 0}, 'test-1072': {'label': 0}, 'test-1073': {'label': 0}, 'test-1074': {'label': 1}, 'test-1075': {'label': 0}, 'test-1076': {'label': 0}, 'test-1077': {'label': 0}, 'test-1078': {'label': 0}, 'test-1079': {'label': 1}, 'test-1080': {'label': 0}, 'test-1081': {'label': 0}, 'test-1082': {'label': 0}, 'test-1083': {'label': 0}, 'test-1084': {'label': 1}, 'test-1085': {'label': 0}, 'test-1086': {'label': 0}, 'test-1087': {'label': 0}, 'test-1088': {'label': 0}, 'test-1089': {'label': 1}, 'test-1090': {'label': 0}, 'test-1091': {'label': 0}, 'test-1092': {'label': 0}, 'test-1093': {'label': 0}, 'test-1094': {'label': 1}, 'test-1095': {'label': 0}, 'test-1096': {'label': 0}, 'test-1097': {'label': 0}, 'test-1098': {'label': 0}, 'test-1099': {'label': 1}, 'test-1100': {'label': 0}, 'test-1101': {'label': 0}, 'test-1102': {'label': 0}, 'test-1103': {'label': 0}, 'test-1104': {'label': 1}, 'test-1105': {'label': 0}, 'test-1106': {'label': 0}, 'test-1107': {'label': 0}, 'test-1108': {'label': 0}, 'test-1109': {'label': 1}, 'test-1110': {'label': 0}, 'test-1111': {'label': 0}, 'test-1112': {'label': 0}, 'test-1113': {'label': 0}, 'test-1114': {'label': 1}, 'test-1115': {'label': 0}, 'test-1116': {'label': 0}, 'test-1117': {'label': 0}, 'test-1118': {'label': 0}, 'test-1119': {'label': 1}, 'test-1120': {'label': 0}, 'test-1121': {'label': 0}, 'test-1122': {'label': 0}, 'test-1123': {'label': 0}, 'test-1124': {'label': 1}, 'test-1125': {'label': 0}, 'test-1126': {'label': 0}, 'test-1127': {'label': 0}, 'test-1128': {'label': 0}, 'test-1129': {'label': 1}, 'test-1130': {'label': 0}, 'test-1131': {'label': 0}, 'test-1132': {'label': 0}, 'test-1133': {'label': 0}, 'test-1134': {'label': 1}, 'test-1135': {'label': 0}, 'test-1136': {'label': 0}, 'test-1137': {'label': 0}, 'test-1138': {'label': 0}, 'test-1139': {'label': 1}, 'test-1140': {'label': 0}, 'test-1141': {'label': 0}, 'test-1142': {'label': 0}, 'test-1143': {'label': 0}, 'test-1144': {'label': 1}, 'test-1145': {'label': 0}, 'test-1146': {'label': 0}, 'test-1147': {'label': 0}, 'test-1148': {'label': 0}, 'test-1149': {'label': 1}, 'test-1150': {'label': 0}, 'test-1151': {'label': 0}, 'test-1152': {'label': 0}, 'test-1153': {'label': 0}, 'test-1154': {'label': 1}, 'test-1155': {'label': 0}, 'test-1156': {'label': 0}, 'test-1157': {'label': 0}, 'test-1158': {'label': 0}, 'test-1159': {'label': 1}, 'test-1160': {'label': 0}, 'test-1161': {'label': 0}, 'test-1162': {'label': 0}, 'test-1163': {'label': 0}, 'test-1164': {'label': 1}, 'test-1165': {'label': 0}, 'test-1166': {'label': 0}, 'test-1167': {'label': 0}, 'test-1168': {'label': 0}, 'test-1169': {'label': 1}, 'test-1170': {'label': 0}, 'test-1171': {'label': 0}, 'test-1172': {'label': 0}, 'test-1173': {'label': 0}, 'test-1174': {'label': 1}, 'test-1175': {'label': 0}, 'test-1176': {'label': 0}, 'test-1177': {'label': 0}, 'test-1178': {'label': 0}, 'test-1179': {'label': 1}, 'test-1180': {'label': 0}, 'test-1181': {'label': 0}, 'test-1182': {'label': 0}, 'test-1183': {'label': 0}, 'test-1184': {'label': 1}, 'test-1185': {'label': 0}, 'test-1186': {'label': 0}, 'test-1187': {'label': 0}, 'test-1188': {'label': 0}, 'test-1189': {'label': 1}, 'test-1190': {'label': 0}, 'test-1191': {'label': 0}, 'test-1192': {'label': 0}, 'test-1193': {'label': 0}, 'test-1194': {'label': 1}, 'test-1195': {'label': 0}, 'test-1196': {'label': 0}, 'test-1197': {'label': 0}, 'test-1198': {'label': 0}, 'test-1199': {'label': 1}, 'test-1200': {'label': 0}, 'test-1201': {'label': 0}, 'test-1202': {'label': 0}, 'test-1203': {'label': 0}, 'test-1204': {'label': 1}, 'test-1205': {'label': 0}, 'test-1206': {'label': 0}, 'test-1207': {'label': 0}, 'test-1208': {'label': 0}, 'test-1209': {'label': 1}, 'test-1210': {'label': 0}, 'test-1211': {'label': 0}, 'test-1212': {'label': 0}, 'test-1213': {'label': 0}, 'test-1214': {'label': 1}, 'test-1215': {'label': 0}, 'test-1216': {'label': 0}, 'test-1217': {'label': 0}, 'test-1218': {'label': 0}, 'test-1219': {'label': 1}, 'test-1220': {'label': 0}, 'test-1221': {'label': 0}, 'test-1222': {'label': 0}, 'test-1223': {'label': 0}, 'test-1224': {'label': 1}, 'test-1225': {'label': 0}, 'test-1226': {'label': 0}, 'test-1227': {'label': 0}, 'test-1228': {'label': 0}, 'test-1229': {'label': 1}, 'test-1230': {'label': 0}, 'test-1231': {'label': 0}, 'test-1232': {'label': 0}, 'test-1233': {'label': 0}, 'test-1234': {'label': 1}, 'test-1235': {'label': 0}, 'test-1236': {'label': 0}, 'test-1237': {'label': 0}, 'test-1238': {'label': 0}, 'test-1239': {'label': 1}, 'test-1240': {'label': 0}, 'test-1241': {'label': 0}, 'test-1242': {'label': 0}, 'test-1243': {'label': 0}, 'test-1244': {'label': 1}, 'test-1245': {'label': 0}, 'test-1246': {'label': 0}, 'test-1247': {'label': 0}, 'test-1248': {'label': 0}, 'test-1249': {'label': 1}, 'test-1250': {'label': 0}, 'test-1251': {'label': 0}, 'test-1252': {'label': 0}, 'test-1253': {'label': 0}, 'test-1254': {'label': 1}, 'test-1255': {'label': 0}, 'test-1256': {'label': 0}, 'test-1257': {'label': 0}, 'test-1258': {'label': 0}, 'test-1259': {'label': 1}, 'test-1260': {'label': 0}, 'test-1261': {'label': 0}, 'test-1262': {'label': 0}, 'test-1263': {'label': 0}, 'test-1264': {'label': 1}, 'test-1265': {'label': 0}, 'test-1266': {'label': 0}, 'test-1267': {'label': 0}, 'test-1268': {'label': 0}, 'test-1269': {'label': 1}, 'test-1270': {'label': 0}, 'test-1271': {'label': 0}, 'test-1272': {'label': 0}, 'test-1273': {'label': 0}, 'test-1274': {'label': 1}, 'test-1275': {'label': 0}, 'test-1276': {'label': 0}, 'test-1277': {'label': 0}, 'test-1278': {'label': 0}, 'test-1279': {'label': 1}, 'test-1280': {'label': 0}, 'test-1281': {'label': 0}, 'test-1282': {'label': 0}, 'test-1283': {'label': 0}, 'test-1284': {'label': 1}, 'test-1285': {'label': 0}, 'test-1286': {'label': 0}, 'test-1287': {'label': 0}, 'test-1288': {'label': 0}, 'test-1289': {'label': 1}, 'test-1290': {'label': 0}, 'test-1291': {'label': 0}, 'test-1292': {'label': 0}, 'test-1293': {'label': 0}, 'test-1294': {'label': 1}, 'test-1295': {'label': 0}, 'test-1296': {'label': 0}, 'test-1297': {'label': 0}, 'test-1298': {'label': 0}, 'test-1299': {'label': 1}, 'test-1300': {'label': 0}, 'test-1301': {'label': 0}, 'test-1302': {'label': 0}, 'test-1303': {'label': 0}, 'test-1304': {'label': 1}, 'test-1305': {'label': 0}, 'test-1306': {'label': 0}, 'test-1307': {'label': 0}, 'test-1308': {'label': 0}, 'test-1309': {'label': 1}, 'test-1310': {'label': 0}, 'test-1311': {'label': 0}, 'test-1312': {'label': 0}, 'test-1313': {'label': 0}, 'test-1314': {'label': 1}, 'test-1315': {'label': 0}, 'test-1316': {'label': 0}, 'test-1317': {'label': 0}, 'test-1318': {'label': 0}, 'test-1319': {'label': 1}, 'test-1320': {'label': 0}, 'test-1321': {'label': 0}, 'test-1322': {'label': 0}, 'test-1323': {'label': 0}, 'test-1324': {'label': 1}, 'test-1325': {'label': 0}, 'test-1326': {'label': 0}, 'test-1327': {'label': 0}, 'test-1328': {'label': 0}, 'test-1329': {'label': 1}, 'test-1330': {'label': 0}, 'test-1331': {'label': 0}, 'test-1332': {'label': 0}, 'test-1333': {'label': 0}, 'test-1334': {'label': 1}, 'test-1335': {'label': 0}, 'test-1336': {'label': 0}, 'test-1337': {'label': 0}, 'test-1338': {'label': 0}, 'test-1339': {'label': 1}, 'test-1340': {'label': 0}, 'test-1341': {'label': 0}, 'test-1342': {'label': 0}, 'test-1343': {'label': 0}, 'test-1344': {'label': 1}, 'test-1345': {'label': 0}, 'test-1346': {'label': 0}, 'test-1347': {'label': 0}, 'test-1348': {'label': 0}, 'test-1349': {'label': 1}, 'test-1350': {'label': 0}, 'test-1351': {'label': 0}, 'test-1352': {'label': 0}, 'test-1353': {'label': 0}, 'test-1354': {'label': 1}, 'test-1355': {'label': 0}, 'test-1356': {'label': 0}, 'test-1357': {'label': 0}, 'test-1358': {'label': 0}, 'test-1359': {'label': 1}, 'test-1360': {'label': 0}, 'test-1361': {'label': 0}, 'test-1362': {'label': 0}, 'test-1363': {'label': 0}, 'test-1364': {'label': 1}, 'test-1365': {'label': 0}, 'test-1366': {'label': 0}, 'test-1367': {'label': 0}, 'test-1368': {'label': 0}, 'test-1369': {'label': 1}, 'test-1370': {'label': 0}, 'test-1371': {'label': 0}, 'test-1372': {'label': 0}, 'test-1373': {'label': 0}, 'test-1374': {'label': 1}, 'test-1375': {'label': 0}, 'test-1376': {'label': 0}, 'test-1377': {'label': 0}, 'test-1378': {'label': 0}, 'test-1379': {'label': 1}, 'test-1380': {'label': 0}, 'test-1381': {'label': 0}, 'test-1382': {'label': 0}, 'test-1383': {'label': 0}, 'test-1384': {'label': 1}, 'test-1385': {'label': 0}, 'test-1386': {'label': 0}, 'test-1387': {'label': 0}, 'test-1388': {'label': 0}, 'test-1389': {'label': 1}, 'test-1390': {'label': 0}, 'test-1391': {'label': 0}, 'test-1392': {'label': 0}, 'test-1393': {'label': 0}, 'test-1394': {'label': 1}, 'test-1395': {'label': 0}, 'test-1396': {'label': 0}, 'test-1397': {'label': 0}, 'test-1398': {'label': 0}, 'test-1399': {'label': 1}, 'test-1400': {'label': 0}, 'test-1401': {'label': 0}, 'test-1402': {'label': 0}, 'test-1403': {'label': 0}, 'test-1404': {'label': 1}, 'test-1405': {'label': 0}, 'test-1406': {'label': 0}, 'test-1407': {'label': 0}, 'test-1408': {'label': 0}, 'test-1409': {'label': 1}}\n"
     ]
    }
   ],
   "source": [
    "re = {}\n",
    "neg = {\"label\": 0}\n",
    "pos = {\"label\": 1}\n",
    "for i in result[0:]:\n",
    "    t = int(i[-1])\n",
    "    if label[t] == 1:\n",
    "        re[i] = pos\n",
    "    else:\n",
    "        re[i] = neg\n",
    "print(re)\n",
    "        \n"
   ]
  },
  {
   "cell_type": "code",
   "execution_count": null,
   "metadata": {},
   "outputs": [],
   "source": []
  }
 ],
 "metadata": {
  "kernelspec": {
   "display_name": "Python 3",
   "language": "python",
   "name": "python3"
  },
  "language_info": {
   "codemirror_mode": {
    "name": "ipython",
    "version": 3
   },
   "file_extension": ".py",
   "mimetype": "text/x-python",
   "name": "python",
   "nbconvert_exporter": "python",
   "pygments_lexer": "ipython3",
   "version": "3.7.4"
  }
 },
 "nbformat": 4,
 "nbformat_minor": 4
}
